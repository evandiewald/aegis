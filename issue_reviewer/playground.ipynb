{
 "cells": [
  {
   "cell_type": "code",
   "execution_count": 1,
   "id": "eb263b4bef3dec88",
   "metadata": {
    "ExecuteTime": {
     "end_time": "2025-01-19T04:13:17.494493Z",
     "start_time": "2025-01-19T04:13:14.218349Z"
    },
    "collapsed": false
   },
   "outputs": [
    {
     "name": "stdout",
     "output_type": "stream",
     "text": [
      "Base image sweb.base.py.x86_64:latest already exists, skipping build.\n",
      "Base images built successfully.\n",
      "No environment images need to be built.\n",
      "Building instance images for 1 instances\n"
     ]
    },
    {
     "name": "stderr",
     "output_type": "stream",
     "text": [
      "1 ran successfully, 0 failed: 100%|██████████| 1/1 [00:00<00:00, 232.86it/s]"
     ]
    },
    {
     "name": "stdout",
     "output_type": "stream",
     "text": [
      "All instance images built successfully.\n"
     ]
    },
    {
     "name": "stderr",
     "output_type": "stream",
     "text": [
      "\n"
     ]
    }
   ],
   "source": [
    "from swebench_utils import build_swebench_images\n",
    "from datasets import load_dataset\n",
    "\n",
    "DATASET_ID = \"princeton-nlp/SWE-bench_Lite\"\n",
    "# DATASET_ID = \"princeton-nlp/SWE-bench_Multimodal\"\n",
    "SPLIT = \"test\"\n",
    "INSTANCE_ID = \"astropy__astropy-12907\"\n",
    "RUN_ID = \"v0\"\n",
    "\n",
    "# base -> environment -> instance images\n",
    "build_swebench_images(\n",
    "    DATASET_ID, SPLIT,\n",
    "    instance_ids=[INSTANCE_ID],\n",
    "    tag=\"latest\"\n",
    ")\n",
    "\n",
    "dataset = load_dataset(DATASET_ID, split=SPLIT)\n",
    "instance_details = [r for r in dataset if r[\"instance_id\"] == INSTANCE_ID][0]"
   ]
  },
  {
   "cell_type": "code",
   "execution_count": 2,
   "id": "20e00363f527e240",
   "metadata": {
    "ExecuteTime": {
     "end_time": "2025-01-19T04:13:29.991716Z",
     "start_time": "2025-01-19T04:13:28.564923Z"
    },
    "collapsed": false
   },
   "outputs": [
    {
     "name": "stdout",
     "output_type": "stream",
     "text": [
      "14:43:03,781 environment INFO Container sweb.eval.astropy__astropy-12907.v0 already exists. Removing and re-creating.\n"
     ]
    },
    {
     "name": "stderr",
     "output_type": "stream",
     "text": [
      "2025-01-30 14:43:03,781 - environment - INFO - Container sweb.eval.astropy__astropy-12907.v0 already exists. Removing and re-creating.\n"
     ]
    },
    {
     "name": "stdout",
     "output_type": "stream",
     "text": [
      "14:43:03,925 environment INFO Running container: sweb.eval.astropy__astropy-12907.v0\n"
     ]
    },
    {
     "name": "stderr",
     "output_type": "stream",
     "text": [
      "2025-01-30 14:43:03,925 - environment - INFO - Running container: sweb.eval.astropy__astropy-12907.v0\n"
     ]
    },
    {
     "name": "stdout",
     "output_type": "stream",
     "text": [
      "14:43:03,927 environment INFO Environment image sweb.env.py.x86_64.428468730904ff6b4232aa:latest found for astropy__astropy-12907\n",
      "Building instance image sweb.eval.x86_64.astropy__astropy-12907:latest for astropy__astropy-12907\n"
     ]
    },
    {
     "name": "stderr",
     "output_type": "stream",
     "text": [
      "2025-01-30 14:43:03,927 - environment - INFO - Environment image sweb.env.py.x86_64.428468730904ff6b4232aa:latest found for astropy__astropy-12907\n",
      "Building instance image sweb.eval.x86_64.astropy__astropy-12907:latest for astropy__astropy-12907\n"
     ]
    },
    {
     "name": "stdout",
     "output_type": "stream",
     "text": [
      "14:43:03,930 environment INFO Image sweb.eval.x86_64.astropy__astropy-12907:latest already exists, skipping build.\n"
     ]
    },
    {
     "name": "stderr",
     "output_type": "stream",
     "text": [
      "2025-01-30 14:43:03,930 - environment - INFO - Image sweb.eval.x86_64.astropy__astropy-12907:latest already exists, skipping build.\n"
     ]
    },
    {
     "name": "stdout",
     "output_type": "stream",
     "text": [
      "14:43:03,931 environment INFO Creating container for astropy__astropy-12907...\n"
     ]
    },
    {
     "name": "stderr",
     "output_type": "stream",
     "text": [
      "2025-01-30 14:43:03,931 - environment - INFO - Creating container for astropy__astropy-12907...\n"
     ]
    },
    {
     "name": "stdout",
     "output_type": "stream",
     "text": [
      "14:43:03,989 environment INFO Container for astropy__astropy-12907 created: 5ee91e426ed7573baa83c13f3c1fadd903ce6658d8c8f6ef62535eb79c465f35\n"
     ]
    },
    {
     "name": "stderr",
     "output_type": "stream",
     "text": [
      "2025-01-30 14:43:03,989 - environment - INFO - Container for astropy__astropy-12907 created: 5ee91e426ed7573baa83c13f3c1fadd903ce6658d8c8f6ef62535eb79c465f35\n"
     ]
    },
    {
     "name": "stdout",
     "output_type": "stream",
     "text": [
      "14:43:03,990 environment INFO Starting container\n"
     ]
    },
    {
     "name": "stderr",
     "output_type": "stream",
     "text": [
      "2025-01-30 14:43:03,990 - environment - INFO - Starting container\n"
     ]
    },
    {
     "name": "stdout",
     "output_type": "stream",
     "text": [
      "14:43:04,173 environment INFO Running pre_install scripts\n"
     ]
    },
    {
     "name": "stderr",
     "output_type": "stream",
     "text": [
      "2025-01-30 14:43:04,173 - environment - INFO - Running pre_install scripts\n"
     ]
    },
    {
     "name": "stdout",
     "output_type": "stream",
     "text": [
      "14:43:04,216 environment INFO Running install scripts\n"
     ]
    },
    {
     "name": "stderr",
     "output_type": "stream",
     "text": [
      "2025-01-30 14:43:04,216 - environment - INFO - Running install scripts\n",
      "2025-01-30 14:43:28,892 - chromadb.telemetry.product.posthog - INFO - Anonymized telemetry enabled. See                     https://docs.trychroma.com/telemetry for more information.\n",
      "2025-01-30 14:43:29,023 - chromadb.telemetry.product.posthog - INFO - Anonymized telemetry enabled. See                     https://docs.trychroma.com/telemetry for more information.\n"
     ]
    }
   ],
   "source": [
    "# create environment\n",
    "from environment import Environment\n",
    "from code_index import CodeIndex\n",
    "from editor import Editor\n",
    "from swebench.harness.test_spec.test_spec import make_test_spec\n",
    "import logging\n",
    "\n",
    "logger = logging.getLogger()\n",
    "logger.setLevel(logging.INFO)\n",
    "\n",
    "test_spec = make_test_spec(instance_details)\n",
    "env = Environment.from_test_spec(\n",
    "    test_spec=test_spec,\n",
    "    run_id=RUN_ID,\n",
    "    # timeout=3,\n",
    ")\n",
    "\n",
    "\n",
    "code_index = CodeIndex(instance_details)\n",
    "code_editor = Editor(env, instance_details, code_index)"
   ]
  },
  {
   "cell_type": "code",
   "execution_count": 5,
   "id": "a7ba5ee1",
   "metadata": {},
   "outputs": [
    {
     "name": "stdout",
     "output_type": "stream",
     "text": [
      "['astropy/modeling/tests/test_core.py']\n"
     ]
    }
   ],
   "source": [
    "print(code_editor._add_test_file(\"astropy/modeling/core.py\"))"
   ]
  },
  {
   "cell_type": "code",
   "execution_count": 4,
   "id": "1ddcda8f",
   "metadata": {},
   "outputs": [
    {
     "name": "stderr",
     "output_type": "stream",
     "text": [
      "2025-01-30 14:18:36,875 - botocore.credentials - INFO - Found credentials from IAM Role: Test-EC2-S3-FullAccess\n"
     ]
    },
    {
     "name": "stdout",
     "output_type": "stream",
     "text": [
      "<code_block_id='Model._calculate_separability_matrix'>\n",
      "\n",
      "Opened file: astropy/modeling/core.py\n",
      "...806 lines above...\n",
      "807: \n",
      "808:     def _calculate_separability_matrix(self):\n",
      "809:         \"\"\"\n",
      "810:         This is a hook which customises the behavior of modeling.separable.\n",
      "811: \n",
      "812:         This allows complex subclasses to customise the separability matrix.\n",
      "813:         If it returns `NotImplemented` the default behavior is used.\n",
      "814:         \"\"\"\n",
      "815:         return NotImplemented\n",
      "816: \n",
      "...3657 lines below...\n",
      "\n",
      "<code_block_id='separability_matrix'>\n",
      "\n",
      "Opened file: astropy/modeling/separable.py\n",
      "...64 lines above...\n",
      "65: \n",
      "66: def separability_matrix(transform):\n",
      "67:     \"\"\"\n",
      "68:     Compute the correlation between outputs and inputs.\n",
      "69: \n",
      "70:     Parameters\n",
      "71:     ----------\n",
      "72:     transform : `~astropy.modeling.core.Model`\n",
      "73:         A (compound) model.\n",
      "74: \n",
      "75:     Returns\n",
      "76:     -------\n",
      "77:     separable_matrix : ndarray\n",
      "78:         A boolean correlation matrix of shape (n_outputs, n_inputs).\n",
      "79:         Indicates the dependence of outputs on inputs. For completely\n",
      "80:         independent outputs, the diagonal elements are True and\n",
      "81:         off-diagonal elements are False.\n",
      "82: \n",
      "83:     Examples\n",
      "84:     --------\n",
      "85:     >>> from astropy.modeling.models import Shift, Scale, Rotation2D, Polynomial2D\n",
      "86:     >>> separability_matrix(Shift(1) & Shift(2) | Scale(1) & Scale(2))\n",
      "87:         array([[ True, False], [False,  True]]...)\n",
      "88:     >>> separability_matrix(Shift(1) & Shift(2) | Rotation2D(2))\n",
      "89:         array([[ True,  True], [ True,  True]]...)\n",
      "90:     >>> separability_matrix(Shift(1) & Shift(2) | Mapping([0, 1, 0, 1]) | \\\n",
      "91:         Polynomial2D(1) & Polynomial2D(2))\n",
      "92:         array([[ True,  True], [ True,  True]]...)\n",
      "93:     >>> separability_matrix(Shift(1) & Shift(2) | Mapping([0, 1, 0, 1]))\n",
      "94:         array([[ True, False], [False,  True], [ True, False], [False,  True]]...)\n",
      "95: \n",
      "96:     \"\"\"\n",
      "97:     if transform.n_inputs == 1 and transform.n_outputs > 1:\n",
      "98:         return np.ones((transform.n_outputs, transform.n_inputs),\n",
      "99:                        dtype=np.bool_)\n",
      "100:     separable_matrix = _separable(transform)\n",
      "101:     separable_matrix = np.where(separable_matrix != 0, True, False)\n",
      "102:     return separable_matrix\n",
      "103: \n",
      "...214 lines below...\n",
      "\n",
      "<code_block_id='_separable'>\n",
      "\n",
      "Opened file: astropy/modeling/separable.py\n",
      "...288 lines above...\n",
      "289: \n",
      "290: def _separable(transform):\n",
      "291:     \"\"\"\n",
      "292:     Calculate the separability of outputs.\n",
      "293: \n",
      "294:     Parameters\n",
      "295:     ----------\n",
      "296:     transform : `astropy.modeling.Model`\n",
      "297:         A transform (usually a compound model).\n",
      "298: \n",
      "299:     Returns :\n",
      "300:     is_separable : ndarray of dtype np.bool\n",
      "301:         An array of shape (transform.n_outputs,) of boolean type\n",
      "302:         Each element represents the separablity of the corresponding output.\n",
      "303:     \"\"\"\n",
      "304:     if (transform_matrix := transform._calculate_separability_matrix()) is not NotImplemented:\n",
      "305:         return transform_matrix\n",
      "306:     elif isinstance(transform, CompoundModel):\n",
      "307:         sepleft = _separable(transform.left)\n",
      "308:         sepright = _separable(transform.right)\n",
      "309:         return _operators[transform.op](sepleft, sepright)\n",
      "310:     elif isinstance(transform, Model):\n",
      "311:         return _coord_matrix(transform, 'left', transform.n_outputs)\n",
      "312: \n",
      "...5 lines below...\n",
      "\n",
      "<code_block_id='is_separable'>\n",
      "\n",
      "Opened file: astropy/modeling/separable.py\n",
      "...25 lines above...\n",
      "26: \n",
      "27: def is_separable(transform):\n",
      "28:     \"\"\"\n",
      "29:     A separability test for the outputs of a transform.\n",
      "30: \n",
      "31:     Parameters\n",
      "32:     ----------\n",
      "33:     transform : `~astropy.modeling.core.Model`\n",
      "34:         A (compound) model.\n",
      "35: \n",
      "36:     Returns\n",
      "37:     -------\n",
      "38:     is_separable : ndarray\n",
      "39:         A boolean array with size ``transform.n_outputs`` where\n",
      "40:         each element indicates whether the output is independent\n",
      "41:         and the result of a separable transform.\n",
      "42: \n",
      "43:     Examples\n",
      "44:     --------\n",
      "45:     >>> from astropy.modeling.models import Shift, Scale, Rotation2D, Polynomial2D\n",
      "46:     >>> is_separable(Shift(1) & Shift(2) | Scale(1) & Scale(2))\n",
      "47:         array([ True,  True]...)\n",
      "48:     >>> is_separable(Shift(1) & Shift(2) | Rotation2D(2))\n",
      "49:         array([False, False]...)\n",
      "50:     >>> is_separable(Shift(1) & Shift(2) | Mapping([0, 1, 0, 1]) | \\\n",
      "51:         Polynomial2D(1) & Polynomial2D(2))\n",
      "52:         array([False, False]...)\n",
      "53:     >>> is_separable(Shift(1) & Shift(2) | Mapping([0, 1, 0, 1]))\n",
      "54:         array([ True,  True,  True,  True]...)\n",
      "55: \n",
      "56:     \"\"\"\n",
      "57:     if transform.n_inputs == 1 and transform.n_outputs > 1:\n",
      "58:         is_separable = np.array([False] * transform.n_outputs).T\n",
      "59:         return is_separable\n",
      "60:     separable_matrix = _separable(transform)\n",
      "61:     is_separable = separable_matrix.sum(1)\n",
      "62:     is_separable = np.where(is_separable != 1, False, True)\n",
      "63:     return is_separable\n",
      "64: \n",
      "...253 lines below...\n",
      "\n",
      "<code_block_id='_split_matrix'>\n",
      "\n",
      "Opened file: astropy/wcs/utils.py\n",
      "...733 lines above...\n",
      "734: \n",
      "735: def _split_matrix(matrix):\n",
      "736:     \"\"\"\n",
      "737:     Given an axis correlation matrix from a WCS object, return information about\n",
      "738:     the individual WCS that can be split out.\n",
      "739: \n",
      "740:     The output is a list of tuples, where each tuple contains a list of\n",
      "741:     pixel dimensions and a list of world dimensions that can be extracted to\n",
      "742:     form a new WCS. For example, in the case of a spectral cube with the first\n",
      "743:     two world coordinates being the celestial coordinates and the third\n",
      "744:     coordinate being an uncorrelated spectral axis, the matrix would look like::\n",
      "745: \n",
      "746:         array([[ True,  True, False],\n",
      "747:                [ True,  True, False],\n",
      "748:                [False, False,  True]])\n",
      "749: \n",
      "750:     and this function will return ``[([0, 1], [0, 1]), ([2], [2])]``.\n",
      "751:     \"\"\"\n",
      "752: \n",
      "753:     pixel_used = []\n",
      "754: \n",
      "755:     split_info = []\n",
      "756: \n",
      "757:     for ipix in range(matrix.shape[1]):\n",
      "758:         if ipix in pixel_used:\n",
      "759:             continue\n",
      "760:         pixel_include = np.zeros(matrix.shape[1], dtype=bool)\n",
      "761:         pixel_include[ipix] = True\n",
      "762:         n_pix_prev, n_pix = 0, 1\n",
      "763:         while n_pix > n_pix_prev:\n",
      "764:             world_include = matrix[:, pixel_include].any(axis=1)\n",
      "765:             pixel_include = matrix[world_include, :].any(axis=0)\n",
      "766:             n_pix_prev, n_pix = n_pix, np.sum(pixel_include)\n",
      "767:         pixel_indices = list(np.nonzero(pixel_include)[0])\n",
      "768:         world_indices = list(np.nonzero(world_include)[0])\n",
      "769:         pixel_used.extend(pixel_indices)\n",
      "770:         split_info.append((pixel_indices, world_indices))\n",
      "771: \n",
      "772:     return split_info\n",
      "773: \n",
      "...426 lines below...\n",
      "\n",
      "<code_block_id='_create_matrix'>\n",
      "\n",
      "Opened file: astropy/modeling/rotations.py\n",
      "...35 lines above...\n",
      "36: \n",
      "37: def _create_matrix(angles, axes_order):\n",
      "38:     matrices = []\n",
      "39:     for angle, axis in zip(angles, axes_order):\n",
      "40:         if isinstance(angle, u.Quantity):\n",
      "41:             angle = angle.value\n",
      "42:         angle = angle.item()\n",
      "43:         matrices.append(rotation_matrix(angle, axis, unit=u.rad))\n",
      "44:     result = matrix_product(*matrices[::-1])\n",
      "45:     return result\n",
      "46: \n",
      "...469 lines below...\n",
      "\n",
      "<code_block_id='_obliquity_only_rotation_matrix'>\n",
      "\n",
      "Opened file: astropy/coordinates/builtin_frames/ecliptic_transforms.py\n",
      "...54 lines above...\n",
      "55: \n",
      "56: def _obliquity_only_rotation_matrix(obl=erfa.obl80(EQUINOX_J2000.jd1, EQUINOX_J2000.jd2) * u.radian):\n",
      "57:     # This code only accounts for the obliquity,\n",
      "58:     # which can be passed explicitly.\n",
      "59:     # The default value is the IAU 1980 value for J2000,\n",
      "60:     # which is computed using obl80 from ERFA:\n",
      "61:     #\n",
      "62:     # obl = erfa.obl80(EQUINOX_J2000.jd1, EQUINOX_J2000.jd2) * u.radian\n",
      "63:     return rotation_matrix(obl, \"x\")\n",
      "64: \n",
      "...191 lines below...\n",
      "\n",
      "<code_block_id='StaticMatrixTransform.__init__'>\n",
      "\n",
      "Opened file: astropy/coordinates/transformations.py\n",
      "...1342 lines above...\n",
      "1343: \n",
      "1344:     def __init__(self, matrix, fromsys, tosys, priority=1, register_graph=None):\n",
      "1345:         if callable(matrix):\n",
      "1346:             matrix = matrix()\n",
      "1347:         self.matrix = np.array(matrix)\n",
      "1348: \n",
      "1349:         if self.matrix.shape != (3, 3):\n",
      "1350:             raise ValueError('Provided matrix is not 3 x 3')\n",
      "1351: \n",
      "1352:         super().__init__(fromsys, tosys, priority=priority,\n",
      "1353:                          register_graph=register_graph)\n",
      "1354: \n",
      "...258 lines below...\n",
      "\n",
      "<code_block_id='StaticMatrixTransform._affine_params'>\n",
      "\n",
      "Opened file: astropy/coordinates/transformations.py\n",
      "...1353 lines above...\n",
      "1354: \n",
      "1355:     def _affine_params(self, fromcoord, toframe):\n",
      "1356:         return self.matrix, None\n",
      "1357: \n",
      "...255 lines below...\n",
      "\n",
      "<code_block_id='_SIP1D._coeff_matrix'>\n",
      "\n",
      "Opened file: astropy/modeling/polynomial.py\n",
      "...1542 lines above...\n",
      "1543: \n",
      "1544:     def _coeff_matrix(self, coeff_prefix, coeffs):\n",
      "1545:         mat = np.zeros((self.order + 1, self.order + 1))\n",
      "1546:         for i in range(2, self.order + 1):\n",
      "1547:             attr = f'{coeff_prefix}_{i}_{0}'\n",
      "1548:             mat[i, 0] = coeffs[self.param_names.index(attr)]\n",
      "1549:         for i in range(2, self.order + 1):\n",
      "1550:             attr = f'{coeff_prefix}_{0}_{i}'\n",
      "1551:             mat[0, i] = coeffs[self.param_names.index(attr)]\n",
      "1552:         for i in range(1, self.order):\n",
      "1553:             for j in range(1, self.order):\n",
      "1554:                 if i + j < self.order + 1:\n",
      "1555:                     attr = f'{coeff_prefix}_{i}_{j}'\n",
      "1556:                     mat[i, j] = coeffs[self.param_names.index(attr)]\n",
      "1557:         return mat\n",
      "1558: \n",
      "...166 lines below...\n",
      "\n",
      "<code_block_id='SlicedLowLevelWCS.__init__'>\n",
      "\n",
      "Opened file: astropy/wcs/wcsapi/wrappers/sliced_wcs.py\n",
      "...120 lines above...\n",
      "121:     \"\"\"\n",
      "122:     def __init__(self, wcs, slices):\n",
      "123: \n",
      "124:         slices = sanitize_slices(slices, wcs.pixel_n_dim)\n",
      "125: \n",
      "126:         if isinstance(wcs, SlicedLowLevelWCS):\n",
      "127:             # Here we combine the current slices with the previous slices\n",
      "128:             # to avoid ending up with many nested WCSes\n",
      "129:             self._wcs = wcs._wcs\n",
      "130:             slices_original = wcs._slices_array.copy()\n",
      "131:             for ipixel in range(wcs.pixel_n_dim):\n",
      "132:                 ipixel_orig = wcs._wcs.pixel_n_dim - 1 - wcs._pixel_keep[ipixel]\n",
      "133:                 ipixel_new = wcs.pixel_n_dim - 1 - ipixel\n",
      "134:                 slices_original[ipixel_orig] = combine_slices(slices_original[ipixel_orig],\n",
      "135:                                                               slices[ipixel_new])\n",
      "136:             self._slices_array = slices_original\n",
      "137:         else:\n",
      "138:             self._wcs = wcs\n",
      "139:             self._slices_array = slices\n",
      "140: \n",
      "141:         self._slices_pixel = self._slices_array[::-1]\n",
      "142: \n",
      "143:         # figure out which pixel dimensions have been kept, then use axis correlation\n",
      "144:         # matrix to figure out which world dims are kept\n",
      "145:         self._pixel_keep = np.nonzero([not isinstance(self._slices_pixel[ip], numbers.Integral)\n",
      "146:                                        for ip in range(self._wcs.pixel_n_dim)])[0]\n",
      "147: \n",
      "148:         # axis_correlation_matrix[world, pixel]\n",
      "149:         self._world_keep = np.nonzero(\n",
      "150:             self._wcs.axis_correlation_matrix[:, self._pixel_keep].any(axis=1))[0]\n",
      "151: \n",
      "152:         if len(self._pixel_keep) == 0 or len(self._world_keep) == 0:\n",
      "153:             raise ValueError(\"Cannot slice WCS: the resulting WCS should have \"\n",
      "154:                              \"at least one pixel and one world dimension.\")\n",
      "155: \n",
      "...153 lines below...\n",
      "\n",
      "<code_block_id='matrix_product'>\n",
      "\n",
      "Opened file: astropy/coordinates/matrix_utilities.py\n",
      "...12 lines above...\n",
      "13: \n",
      "14: def matrix_product(*matrices):\n",
      "15:     \"\"\"Matrix multiply all arguments together.\n",
      "16: \n",
      "17:     Arguments should have dimension 2 or larger. Larger dimensional objects\n",
      "18:     are interpreted as stacks of matrices residing in the last two dimensions.\n",
      "19: \n",
      "20:     This function mostly exists for readability: using `~numpy.matmul`\n",
      "21:     directly, one would have ``matmul(matmul(m1, m2), m3)``, etc. For even\n",
      "22:     better readability, one might consider using `~numpy.matrix` for the\n",
      "23:     arguments (so that one could write ``m1 * m2 * m3``), but then it is not\n",
      "24:     possible to handle stacks of matrices. Once only python >=3.5 is supported,\n",
      "25:     this function can be replaced by ``m1 @ m2 @ m3``.\n",
      "26:     \"\"\"\n",
      "27:     return reduce(np.matmul, matrices)\n",
      "28: \n",
      "...177 lines below...\n",
      "\n",
      "<code_block_id='_pixel_to_world_correlation_matrix'>\n",
      "\n",
      "Opened file: astropy/wcs/utils.py\n",
      "...657 lines above...\n",
      "658: \n",
      "659: def _pixel_to_world_correlation_matrix(wcs):\n",
      "660:     \"\"\"\n",
      "661:     Return a correlation matrix between the pixel coordinates and the\n",
      "662:     high level world coordinates, along with the list of high level world\n",
      "663:     coordinate classes.\n",
      "664: \n",
      "665:     The shape of the matrix is ``(n_world, n_pix)``, where ``n_world`` is the\n",
      "666:     number of high level world coordinates.\n",
      "667:     \"\"\"\n",
      "668: \n",
      "669:     # We basically want to collapse the world dimensions together that are\n",
      "670:     # combined into the same high-level objects.\n",
      "671: \n",
      "672:     # Get the following in advance as getting these properties can be expensive\n",
      "673:     all_components = wcs.low_level_wcs.world_axis_object_components\n",
      "674:     all_classes = wcs.low_level_wcs.world_axis_object_classes\n",
      "675:     axis_correlation_matrix = wcs.low_level_wcs.axis_correlation_matrix\n",
      "676: \n",
      "677:     components = _unique_with_order_preserved([c[0] for c in all_components])\n",
      "678: \n",
      "679:     matrix = np.zeros((len(components), wcs.pixel_n_dim), dtype=bool)\n",
      "680: \n",
      "681:     for iworld in range(wcs.world_n_dim):\n",
      "682:         iworld_unique = components.index(all_components[iworld][0])\n",
      "683:         matrix[iworld_unique] |= axis_correlation_matrix[iworld]\n",
      "684: \n",
      "685:     classes = [all_classes[component][0] for component in components]\n",
      "686: \n",
      "687:     return matrix, classes\n",
      "688: \n",
      "...511 lines below...\n",
      "\n",
      "<code_block_id='CompositeTransform._combine_statics'>\n",
      "\n",
      "Opened file: astropy/coordinates/transformations.py\n",
      "...1442 lines above...\n",
      "1443: \n",
      "1444:     def _combine_statics(self, transforms):\n",
      "1445:         \"\"\"\n",
      "1446:         Combines together sequences of `StaticMatrixTransform`s into a single\n",
      "1447:         transform and returns it.\n",
      "1448:         \"\"\"\n",
      "1449:         newtrans = []\n",
      "1450:         for currtrans in transforms:\n",
      "1451:             lasttrans = newtrans[-1] if len(newtrans) > 0 else None\n",
      "1452: \n",
      "1453:             if (isinstance(lasttrans, StaticMatrixTransform) and\n",
      "1454:                     isinstance(currtrans, StaticMatrixTransform)):\n",
      "1455:                 combinedmat = matrix_product(currtrans.matrix, lasttrans.matrix)\n",
      "1456:                 newtrans[-1] = StaticMatrixTransform(combinedmat,\n",
      "1457:                                                      lasttrans.fromsys,\n",
      "1458:                                                      currtrans.tosys)\n",
      "1459:             else:\n",
      "1460:                 newtrans.append(currtrans)\n",
      "1461:         return newtrans\n",
      "1462: \n",
      "...150 lines below...\n",
      "\n",
      "<code_block_id='StaticMatrixTransform'>\n",
      "\n",
      "Opened file: astropy/coordinates/transformations.py\n",
      "...1309 lines above...\n",
      "1310: \n",
      "1311: class StaticMatrixTransform(BaseAffineTransform):\n",
      "1312:     \"\"\"\n",
      "1313:     A coordinate transformation defined as a 3 x 3 cartesian\n",
      "1314:     transformation matrix.\n",
      "1315: \n",
      "1316:     This is distinct from DynamicMatrixTransform in that this kind of matrix is\n",
      "1317:     independent of frame attributes.  That is, it depends *only* on the class of\n",
      "1318:     the frame.\n",
      "1319: \n",
      "1320:     Parameters\n",
      "1321:     ----------\n",
      "1322:     matrix : array-like or callable\n",
      "1323:         A 3 x 3 matrix for transforming 3-vectors. In most cases will\n",
      "1324:         be unitary (although this is not strictly required). If a callable,\n",
      "1325:         will be called *with no arguments* to get the matrix.\n",
      "1326:     fromsys : class\n",
      "1327:         The coordinate frame class to start from.\n",
      "1328:     tosys : class\n",
      "1329:         The coordinate frame class to transform into.\n",
      "1330:     priority : float or int\n",
      "1331:         The priority if this transform when finding the shortest\n",
      "1332:         coordinate transform path - large numbers are lower priorities.\n",
      "1333:     register_graph : `TransformGraph` or None\n",
      "1334:         A graph to register this transformation with on creation, or\n",
      "1335:         `None` to leave it unregistered.\n",
      "1336: \n",
      "1337:     Raises\n",
      "1338:     ------\n",
      "1339:     ValueError\n",
      "1340:         If the matrix is not 3 x 3\n",
      "1341: \n",
      "1342:     \"\"\"\n",
      "1343: \n",
      "1344:     def __init__(self, matrix, fromsys, tosys, priority=1, register_graph=None):\n",
      "1345:         if callable(matrix):\n",
      "1346:             matrix = matrix()\n",
      "1347:         self.matrix = np.array(matrix)\n",
      "1348: \n",
      "1349:         if self.matrix.shape != (3, 3):\n",
      "1350:             raise ValueError('Provided matrix is not 3 x 3')\n",
      "1351: \n",
      "1352:         super().__init__(fromsys, tosys, priority=priority,\n",
      "1353:                          register_graph=register_graph)\n",
      "1354: \n",
      "1355:     def _affine_params(self, fromcoord, toframe):\n",
      "1356:         return self.matrix, None\n",
      "1357: \n",
      "...255 lines below...\n",
      "\n",
      "\n"
     ]
    }
   ],
   "source": [
    "print(code_index.code_search_formatted_docs(\"def separability_matrix\", \"src\"))"
   ]
  },
  {
   "cell_type": "code",
   "execution_count": 6,
   "id": "1a53e9f3",
   "metadata": {},
   "outputs": [
    {
     "data": {
      "text/plain": [
       "[{'category': 'src',\n",
       "  'end_line': 687,\n",
       "  'file_path': 'astropy/wcs/utils.py',\n",
       "  'name': '_pixel_to_world_correlation_matrix',\n",
       "  'start_line': 659,\n",
       "  'type': 'function'},\n",
       " {'category': 'src',\n",
       "  'end_line': 1461,\n",
       "  'file_path': 'astropy/coordinates/transformations.py',\n",
       "  'name': 'CompositeTransform._combine_statics',\n",
       "  'start_line': 1444,\n",
       "  'type': 'function'}]"
      ]
     },
     "execution_count": 6,
     "metadata": {},
     "output_type": "execute_result"
    }
   ],
   "source": [
    "doc_ids = [\"CompositeTransform._combine_statics\", \"_pixel_to_world_correlation_matrix\"]\n",
    "\n",
    "where = {\"$or\": [{\"name\": name} for name in doc_ids]}\n",
    "code_index.db._collection.get(\n",
    "    where=where\n",
    ")[\"metadatas\"]"
   ]
  },
  {
   "cell_type": "code",
   "execution_count": 7,
   "id": "588d1ea4",
   "metadata": {},
   "outputs": [
    {
     "data": {
      "text/plain": [
       "'astropy/coordinates/tests/test_matrix_utilities.py'"
      ]
     },
     "execution_count": 7,
     "metadata": {},
     "output_type": "execute_result"
    }
   ],
   "source": [
    "code_index.get_most_similar_test_file(\"astropy/coordinates/matrix_utilities.py\")"
   ]
  },
  {
   "cell_type": "code",
   "execution_count": 8,
   "id": "03ba276b",
   "metadata": {},
   "outputs": [
    {
     "data": {
      "text/plain": [
       "<socket.SocketIO at 0x799d41e378e0>"
      ]
     },
     "execution_count": 8,
     "metadata": {},
     "output_type": "execute_result"
    }
   ],
   "source": [
    "_, socket = env.container.exec_run(\"bash\", stdin=True, tty=True, socket=True)\n",
    "socket"
   ]
  },
  {
   "cell_type": "code",
   "execution_count": 9,
   "id": "12063a65",
   "metadata": {},
   "outputs": [
    {
     "ename": "UnsupportedOperation",
     "evalue": "File or stream is not writable.",
     "output_type": "error",
     "traceback": [
      "\u001b[0;31m---------------------------------------------------------------------------\u001b[0m",
      "\u001b[0;31mUnsupportedOperation\u001b[0m                      Traceback (most recent call last)",
      "Cell \u001b[0;32mIn[9], line 1\u001b[0m\n\u001b[0;32m----> 1\u001b[0m \u001b[43msocket\u001b[49m\u001b[38;5;241;43m.\u001b[39;49m\u001b[43mwrite\u001b[49m\u001b[43m(\u001b[49m\u001b[38;5;124;43mb\u001b[39;49m\u001b[38;5;124;43m'\u001b[39;49m\u001b[38;5;124;43mconda activate testbed\u001b[39;49m\u001b[38;5;124;43m'\u001b[39;49m\u001b[43m)\u001b[49m\n",
      "File \u001b[0;32m/usr/lib/python3.12/socket.py:723\u001b[0m, in \u001b[0;36mSocketIO.write\u001b[0;34m(self, b)\u001b[0m\n\u001b[1;32m    717\u001b[0m \u001b[38;5;250m\u001b[39m\u001b[38;5;124;03m\"\"\"Write the given bytes or bytearray object *b* to the socket\u001b[39;00m\n\u001b[1;32m    718\u001b[0m \u001b[38;5;124;03mand return the number of bytes written.  This can be less than\u001b[39;00m\n\u001b[1;32m    719\u001b[0m \u001b[38;5;124;03mlen(b) if not all data could be written.  If the socket is\u001b[39;00m\n\u001b[1;32m    720\u001b[0m \u001b[38;5;124;03mnon-blocking and no bytes could be written None is returned.\u001b[39;00m\n\u001b[1;32m    721\u001b[0m \u001b[38;5;124;03m\"\"\"\u001b[39;00m\n\u001b[1;32m    722\u001b[0m \u001b[38;5;28mself\u001b[39m\u001b[38;5;241m.\u001b[39m_checkClosed()\n\u001b[0;32m--> 723\u001b[0m \u001b[38;5;28;43mself\u001b[39;49m\u001b[38;5;241;43m.\u001b[39;49m\u001b[43m_checkWritable\u001b[49m\u001b[43m(\u001b[49m\u001b[43m)\u001b[49m\n\u001b[1;32m    724\u001b[0m \u001b[38;5;28;01mtry\u001b[39;00m:\n\u001b[1;32m    725\u001b[0m     \u001b[38;5;28;01mreturn\u001b[39;00m \u001b[38;5;28mself\u001b[39m\u001b[38;5;241m.\u001b[39m_sock\u001b[38;5;241m.\u001b[39msend(b)\n",
      "\u001b[0;31mUnsupportedOperation\u001b[0m: File or stream is not writable."
     ]
    }
   ],
   "source": [
    "socket.write(b'conda activate testbed')"
   ]
  },
  {
   "cell_type": "code",
   "execution_count": 3,
   "id": "5fcfc65d",
   "metadata": {},
   "outputs": [
    {
     "name": "stderr",
     "output_type": "stream",
     "text": [
      "2025-01-26 02:50:43,161 - testbeds.swebench.log_parsers - INFO - No test results found in log, will check for unhandled errors.\n",
      "2025-01-26 02:50:43,162 - testbeds.swebench.log_parsers - WARNING - No tests found in log: /tmp/tmpy3u5otpl: line 3: PYTHONWARNINGS='ignore::UserWarning,ignore::SyntaxWarning': command not found\n",
      "\n",
      "ERROR conda.cli.main_run:execute(124): `conda run PYTHONWARNINGS='ignore::UserWarning,ignore::SyntaxWarning' bin/test -C --verbose sympy/physics/units/tests/test_util.py` failed. (See above for error)\n",
      "\n"
     ]
    },
    {
     "name": "stdout",
     "output_type": "stream",
     "text": [
      "Summary of Test Results:\n",
      "Test Files: ['sympy/physics/units/tests/test_util.py']\n",
      "0 passed\n",
      "0 failed\n",
      "\n",
      "\n"
     ]
    }
   ],
   "source": [
    "print(code_editor.run_tests([\"sympy/physics/units/tests/test_util.py\"]))\n",
    "# print(code_editor.ls(\"tests/test_utils\"))"
   ]
  },
  {
   "cell_type": "code",
   "execution_count": 5,
   "id": "797387a6",
   "metadata": {},
   "outputs": [
    {
     "data": {
      "text/plain": [
       "ExecResult(exit_code=0, output=b'')"
      ]
     },
     "execution_count": 5,
     "metadata": {},
     "output_type": "execute_result"
    }
   ],
   "source": [
    "from swebench_utils import get_test_script\n",
    "\n",
    "cmd = get_test_script(instance_details, [])# [\"sympy/physics/units/tests/test_util.py\"])\n",
    "env.container.exec_run([\"bash\", \"-c\"] + cmd)"
   ]
  },
  {
   "cell_type": "code",
   "execution_count": 3,
   "id": "6b38b0fc",
   "metadata": {},
   "outputs": [
    {
     "name": "stdout",
     "output_type": "stream",
     "text": [
      "['conda', 'run', '-n', 'testbed', 'pytest', '-rA', '-vv', '-o', 'console_output_style=classic', '--tb=no', 'astropy/modeling/tests/test_separable.py']\n",
      "Internet access disabled\n",
      "============================= test session starts ==============================\n",
      "platform linux -- Python 3.6.13, pytest-3.3.1, py-1.11.0, pluggy-0.6.0 -- /opt/miniconda3/envs/testbed/bin/python\n",
      "cachedir: .\n",
      "\n",
      "Running tests with Astropy version 3.0.dev20979.\n",
      "Running tests in astropy/modeling/tests/test_separable.py.\n",
      "\n",
      "Date: 2025-01-23T03:49:13\n",
      "\n",
      "Platform: Linux-6.8.0-1021-aws-x86_64-with-debian-bookworm-sid\n",
      "\n",
      "Executable: /opt/miniconda3/envs/testbed/bin/python\n",
      "\n",
      "Full Python Version: \n",
      "3.6.13 |Anaconda, Inc.| (default, Jun  4 2021, 14:25:59) \n",
      "[GCC 7.5.0]\n",
      "\n",
      "encodings: sys: utf-8, locale: UTF-8, filesystem: utf-8\n",
      "byteorder: little\n",
      "float info: dig: 15, mant_dig: 15\n",
      "\n",
      "Numpy: 1.16.0\n",
      "Scipy: not available\n",
      "Matplotlib: not available\n",
      "h5py: not available\n",
      "Pandas: not available\n",
      "Cython: 0.27.3\n",
      "Using Astropy options: remote_data: none.\n",
      "\n",
      "rootdir: /testbed, inifile: setup.cfg\n",
      "plugins: xdist-1.20.1, remotedata-0.2.0, openfiles-0.2.0, mock-1.6.3, forked-0.2, filter-subpackage-0.1, doctestplus-0.1.2, cov-2.5.1, astropy-header-0.1, arraydiff-0.1, hypothesis-3.44.2\n",
      "collecting ... collected 10 items\n",
      "\n",
      "astropy/modeling/tests/test_separable.py::test_coord_matrix PASSED\n",
      "astropy/modeling/tests/test_separable.py::test_cdot PASSED\n",
      "astropy/modeling/tests/test_separable.py::test_cstack PASSED\n",
      "astropy/modeling/tests/test_separable.py::test_arith_oper PASSED\n",
      "astropy/modeling/tests/test_separable.py::test_separable[compound_model0-result0] PASSED\n",
      "astropy/modeling/tests/test_separable.py::test_separable[compound_model1-result1] PASSED\n",
      "astropy/modeling/tests/test_separable.py::test_separable[compound_model2-result2] PASSED\n",
      "astropy/modeling/tests/test_separable.py::test_separable[compound_model3-result3] PASSED\n",
      "astropy/modeling/tests/test_separable.py::test_separable[compound_model4-result4] PASSED\n",
      "astropy/modeling/tests/test_separable.py::test_separable[compound_model5-result5] PASSED\n",
      "\n",
      "=============================== warnings summary ===============================\n",
      "None\n",
      "  Module already imported so cannot be rewritten: astropy.tests.plugins.display\n",
      "\n",
      "-- Docs: http://doc.pytest.org/en/latest/warnings.html\n",
      "==================== 10 passed, 1 warnings in 0.71 seconds =====================\n",
      "\n",
      "\n"
     ]
    }
   ],
   "source": [
    "from swebench_utils import get_test_script\n",
    "\n",
    "test_file = \"astropy/modeling/tests/test_separable.py\"\n",
    "\n",
    "test_command = [\"conda\", \"run\", \"-n\", \"testbed\"] + get_test_script(instance_details, [test_file])\n",
    "print(test_command)\n",
    "test_output = env.execute_command(test_command, ignore_errors=True)\n",
    "print(test_output)"
   ]
  },
  {
   "cell_type": "code",
   "execution_count": 4,
   "id": "acf0a047",
   "metadata": {},
   "outputs": [
    {
     "name": "stdout",
     "output_type": "stream",
     "text": [
      "2\n"
     ]
    }
   ],
   "source": [
    "from testbeds.swebench.log_parsers import parse_log\n",
    "\n",
    "test_result = {\n",
    "    \"file_path\": parse_log(test_output, instance_details[\"repo\"]),\n",
    "    \"file_path2\": parse_log(test_output, instance_details[\"repo\"]),\n",
    "    }\n",
    "print(len(test_result))\n"
   ]
  },
  {
   "cell_type": "code",
   "execution_count": 5,
   "id": "b1248564",
   "metadata": {},
   "outputs": [
    {
     "name": "stdout",
     "output_type": "stream",
     "text": [
      "Summary of Test Results:\n",
      "Test Files: ['file_path', 'file_path2']\n",
      "20 passed\n",
      "0 failed\n",
      "\n",
      "\n"
     ]
    }
   ],
   "source": [
    "print(code_editor._get_test_summary(test_result))"
   ]
  },
  {
   "cell_type": "code",
   "execution_count": 8,
   "id": "aaf0a844",
   "metadata": {},
   "outputs": [
    {
     "name": "stdout",
     "output_type": "stream",
     "text": [
      "matched_files=['astropy/modeling/tests/test_separable.py']\n",
      "astropy/modeling/tests/test_separable.py\n"
     ]
    }
   ],
   "source": [
    "import os\n",
    "\n",
    "file_path = \"./astropy/modeling/separable.py\"\n",
    "\n",
    "filename = os.path.basename(file_path)\n",
    "stem = filename.split(\".\")[0]\n",
    "dirname = os.path.dirname(file_path)\n",
    "test_patterns = [f\"*test_{filename}\", f\"*{stem}_test.py\", f\"*{stem}/tests.py\"]  # last one is for django\n",
    "\n",
    "matched_files = [] \n",
    "for pat in test_patterns:\n",
    "    matched_files += code_editor._find_files(pat)\n",
    "if not matched_files:\n",
    "    test_file = None\n",
    "\n",
    "print(f\"{matched_files=}\")\n",
    "\n",
    "if len(matched_files) == 1:\n",
    "    test_file = matched_files[0]\n",
    "\n",
    "else:\n",
    "\n",
    "    # Find the test file with the most similar directory path\n",
    "    best_match = None\n",
    "    best_match_score = float(\"inf\")\n",
    "    for test_file in matched_files:\n",
    "        print(f\"{test_file=}\")\n",
    "        test_dirname = os.path.dirname(test_file)\n",
    "        common_prefix = os.path.commonprefix([dirname, test_dirname])\n",
    "        score = len(dirname) - len(common_prefix)\n",
    "        print(f\"{score=}\")\n",
    "        if score < best_match_score:\n",
    "            best_match = test_file\n",
    "            best_match_score = score\n",
    "\n",
    "    test_file = best_match\n",
    "print(test_file)"
   ]
  },
  {
   "cell_type": "code",
   "execution_count": 13,
   "id": "4531a8aa",
   "metadata": {},
   "outputs": [
    {
     "data": {
      "text/plain": [
       "['./astropy/coordinates/tests/test_angular_separation.py',\n",
       " './astropy/modeling/tests/test_separable.py',\n",
       " './astropy/modeling/separable.py']"
      ]
     },
     "execution_count": 13,
     "metadata": {},
     "output_type": "execute_result"
    }
   ],
   "source": [
    "env.execute_command([\"find\", \".\", \"-path\", \"*sep*y\"]).splitlines()"
   ]
  },
  {
   "cell_type": "code",
   "execution_count": 3,
   "id": "c8d11e73",
   "metadata": {},
   "outputs": [
    {
     "name": "stdout",
     "output_type": "stream",
     "text": [
      "The file astropy/io/fits/fitsrec.py has been edited.\n",
      "Opened file: astropy/io/fits/fitsrec.py\n",
      "...1258 lines above...\n",
      "1259: \n",
      "1260:             output_field[jdx] = value\n",
      "1261: \n",
      "1262:         # Replace exponent separator in floating point numbers\n",
      "1263:         if 'D' in format:\n",
      "1264:             output_field = output_field.replace(encode_ascii('E'), encode_ascii('D'))\n",
      "1265: \n",
      "1266: \n",
      "1267: def _get_recarray_field(array, key):\n",
      "...64 lines below...\n",
      "Review the changes and make sure they are as expected. Edit the file again if necessary.\n",
      "\n",
      "Summary of Test Results:\n",
      "Test Files: []\n",
      "0 passed\n",
      "0 failed\n",
      "\n",
      "\n"
     ]
    }
   ],
   "source": [
    "print(code_editor.str_replace(\"astropy/io/fits/fitsrec.py\", \"output_field.replace(encode_ascii('E'), encode_ascii('D'))\", \"output_field = output_field.replace(encode_ascii('E'), encode_ascii('D'))\"))"
   ]
  },
  {
   "cell_type": "code",
   "execution_count": 4,
   "id": "8af6da19",
   "metadata": {},
   "outputs": [
    {
     "data": {
      "text/plain": [
       "[None]"
      ]
     },
     "execution_count": 4,
     "metadata": {},
     "output_type": "execute_result"
    }
   ],
   "source": [
    "code_editor._test_files"
   ]
  },
  {
   "cell_type": "code",
   "execution_count": null,
   "id": "6ab2a257",
   "metadata": {},
   "outputs": [],
   "source": [
    "code_editor.execute_command()"
   ]
  },
  {
   "cell_type": "code",
   "execution_count": 6,
   "id": "b8b7baec",
   "metadata": {},
   "outputs": [],
   "source": [
    "from testbeds.swebench.log_parsers import parse_log\n",
    "from swebench_utils import get_test_script\n",
    "\n",
    "test_files = [\"tests/asgi/tests.py\", \"tests/apps/tests.py\"] #, \"tests/apps/tests.py\"\n",
    "\n",
    "result = {}\n",
    "for test_file in test_files:\n",
    "    test_command = [\"bash\", \"-c\"] + get_test_script(code_editor.instance, [test_file])\n",
    "    test_output = code_editor.execute_command(test_command)\n",
    "    result[test_file] = parse_log(test_output, code_editor.instance[\"repo\"])\n",
    "    "
   ]
  },
  {
   "cell_type": "code",
   "execution_count": 12,
   "id": "5e501216",
   "metadata": {},
   "outputs": [
    {
     "data": {
      "text/plain": [
       "TestResult(status=<TestStatus.ERROR: 'ERROR'>, name='test_request_lifecycle_signals_dispatched_with_thread_sensitive (asgi.tests.ASGITest.test_request_lifecycle_signals_dispatched_with_thread_sensitive)', file_path='tests/asgi/tests.py', method='test_request_lifecycle_signals_dispatched_with_thread_sensitive', failure_output='Traceback (most recent call last):\\n  File \"tests/asgi/tests.py\", line 240, in test_request_lifecycle_signals_dispatched_with_thread_sensitive\\n    target_thread = next(iter(SyncToAsync.single_thread_executor._threads))\\n                    ^^^^^^^^^^^^^^^^^^^^^^^^^^^^^^^^^^^^^^^^^^^^^^^^^^^^^^^\\nStopIteration\\n\\nThe above exception was the direct cause of the following exception:\\n\\nTraceback (most recent call last):\\n  File \"/opt/miniconda3/lib/python3.11/site-packages/asgiref/sync.py\", line 254, in __call__\\n    return call_result.result()\\n           ^^^^^^^^^^^^^^^^^^^^\\n  File \"/opt/miniconda3/lib/python3.11/concurrent/futures/_base.py\", line 449, in result\\n    return self.__get_result()\\n           ^^^^^^^^^^^^^^^^^^^\\n  File \"/opt/miniconda3/lib/python3.11/concurrent/futures/_base.py\", line 401, in __get_result\\n    raise self._exception\\n  File \"/opt/miniconda3/lib/python3.11/site-packages/asgiref/sync.py\", line 331, in main_wrap\\n    result = await self.awaitable(*args, **kwargs)\\n             ^^^^^^^^^^^^^^^^^^^^^^^^^^^^^^^^^^^^^\\nRuntimeError: coroutine raised StopIteration\\n', stacktrace=[TraceItem(file_path='tests/asgi/tests.py', method='test_request_lifecycle_signals_dispatched_with_thread_sensitive', line_number=240, output='    target_thread = next(iter(SyncToAsync.single_thread_executor._threads))\\n                    ^^^^^^^^^^^^^^^^^^^^^^^^^^^^^^^^^^^^^^^^^^^^^^^^^^^^^^^\\nStopIteration\\n\\nThe above exception was the direct cause of the following exception:\\n\\nTraceback (most recent call last):'), TraceItem(file_path='/opt/miniconda3/lib/python3.11/site-packages/asgiref/sync.py', method='__call__', line_number=254, output='    return call_result.result()\\n           ^^^^^^^^^^^^^^^^^^^^'), TraceItem(file_path='/opt/miniconda3/lib/python3.11/concurrent/futures/_base.py', method='result', line_number=449, output='    return self.__get_result()\\n           ^^^^^^^^^^^^^^^^^^^'), TraceItem(file_path='/opt/miniconda3/lib/python3.11/concurrent/futures/_base.py', method='__get_result', line_number=401, output='    raise self._exception')])"
      ]
     },
     "execution_count": 12,
     "metadata": {},
     "output_type": "execute_result"
    }
   ],
   "source": [
    "passed = [tr for test_file in result for tr in result[test_file] if tr.status == \"ERROR\"]\n",
    "passed[0]"
   ]
  },
  {
   "cell_type": "code",
   "execution_count": 3,
   "id": "d6761a24",
   "metadata": {},
   "outputs": [
    {
     "name": "stdout",
     "output_type": "stream",
     "text": [
      "The file django/core/asgi.py has been edited.\n",
      "Opened file: django/core/asgi.py\n",
      "1: import django\n",
      "2: import io\n",
      "3: from django.core.handlers.asgi import ASGIHandler\n",
      "4: \n",
      "5: \n",
      "6: def get_asgi_application():\n",
      "7:     \"\"\"\n",
      "8:     The public interface to Django's ASGI support. Return an ASGI 3 callable.\n",
      "9: \n",
      "10:     Avoids making django.core.handlers.ASGIHandler a public API, in case the\n",
      "11:     internal implementation changes or moves in the future.\n",
      "12:     \"\"\"\n",
      "13:     django.setup(set_prefix=False)\n",
      "14:     return ASGIHandler()\n",
      "--You've reached the end of the file--\n",
      "Review the changes and make sure they are as expected (correct indentation, no duplicate lines, etc). Edit the file again if necessary.\n",
      "The file django/core/asgi.py has been edited.\n",
      "Opened file: django/core/asgi.py\n",
      "1: import django\n",
      "2: import sys\n",
      "3: from django.core.handlers.asgi import ASGIHandler\n",
      "4: \n",
      "5: \n",
      "...9 lines below...\n",
      "Review the changes and make sure they are as expected. Edit the file again if necessary.\n",
      "\n",
      "Ran tests for files: ['tests/asgi/tests.py']\n",
      "\n",
      "Output:\n",
      "\n",
      "Testing against Django installed in '/testbed/django'\n",
      "Importing application asgi\n",
      "Found 9 tests.\n",
      "Skipping setup of unused database(s): default, other.\n",
      "System check identified no issues (0 silenced).\n",
      "test_disconnect (asgi.tests.ASGITest.test_disconnect) ... Exception ignored in: <function SpooledTemporaryFile.__del__ at 0x76fd1d307560>\n",
      "Traceback (most recent call last):\n",
      "  File \"/opt/miniconda3/lib/python3.11/tempfile.py\", line 732, in __del__\n",
      "    _warnings.warn(\n",
      "ResourceWarning: Unclosed file <tempfile.SpooledTemporaryFile object at 0x76fd1c1bac80>\n",
      "ok\n",
      "test_file_response (asgi.tests.ASGITest.test_file_response)\n",
      "Makes sure that FileResponse works over ASGI. ... ok\n",
      "test_get_asgi_application (asgi.tests.ASGITest.test_get_asgi_application)\n",
      "get_asgi_application() returns a functioning ASGI callable. ... ok\n",
      "test_get_query_string (asgi.tests.ASGITest.test_get_query_string) ... ok\n",
      "test_headers (asgi.tests.ASGITest.test_headers) ... ok\n",
      "test_non_unicode_query_string (asgi.tests.ASGITest.test_non_unicode_query_string) ... Exception ignored in: <function SpooledTemporaryFile.__del__ at 0x76fd1d307560>\n",
      "Traceback (most recent call last):\n",
      "  File \"/opt/miniconda3/lib/python3.11/tempfile.py\", line 732, in __del__\n",
      "    _warnings.warn(\n",
      "ResourceWarning: Unclosed file <tempfile.SpooledTemporaryFile object at 0x76fd1bf5f670>\n",
      "ok\n",
      "test_request_lifecycle_signals_dispatched_with_thread_sensitive (asgi.tests.ASGITest.test_request_lifecycle_signals_dispatched_with_thread_sensitive) ... ERROR\n",
      "test_static_file_response (asgi.tests.ASGITest.test_static_file_response) ... Exception ignored in: <function SpooledTemporaryFile.__del__ at 0x76fd1d307560>\n",
      "Traceback (most recent call last):\n",
      "  File \"/opt/miniconda3/lib/python3.11/tempfile.py\", line 732, in __del__\n",
      "    _warnings.warn(\n",
      "ResourceWarning: Unclosed file <tempfile.SpooledTemporaryFile object at 0x76fd1b98ff10>\n",
      "ok\n",
      "test_wrong_connection_type (asgi.tests.ASGITest.test_wrong_connection_type) ... ok\n",
      "\n",
      "======================================================================\n",
      "ERROR: test_request_lifecycle_signals_dispatched_with_thread_sensitive (asgi.tests.ASGITest.test_request_lifecycle_signals_dispatched_with_thread_sensitive)\n",
      "----------------------------------------------------------------------\n",
      "Traceback (most recent call last):\n",
      "  File \"/testbed/tests/asgi/tests.py\", line 240, in test_request_lifecycle_signals_dispatched_with_thread_sensitive\n",
      "    target_thread = next(iter(SyncToAsync.single_thread_executor._threads))\n",
      "                    ^^^^^^^^^^^^^^^^^^^^^^^^^^^^^^^^^^^^^^^^^^^^^^^^^^^^^^^\n",
      "StopIteration\n",
      "\n",
      "The above exception was the direct cause of the following exception:\n",
      "\n",
      "Traceback (most recent call last):\n",
      "  File \"/opt/miniconda3/lib/python3.11/site-packages/asgiref/sync.py\", line 254, in __call__\n",
      "    return call_result.result()\n",
      "           ^^^^^^^^^^^^^^^^^^^^\n",
      "  File \"/opt/miniconda3/lib/python3.11/concurrent/futures/_base.py\", line 449, in result\n",
      "    return self.__get_result()\n",
      "           ^^^^^^^^^^^^^^^^^^^\n",
      "  File \"/opt/miniconda3/lib/python3.11/concurrent/futures/_base.py\", line 401, in __get_result\n",
      "    raise self._exception\n",
      "  File \"/opt/miniconda3/lib/python3.11/site-packages/asgiref/sync.py\", line 331, in main_wrap\n",
      "    result = await self.awaitable(*args, **kwargs)\n",
      "             ^^^^^^^^^^^^^^^^^^^^^^^^^^^^^^^^^^^^^\n",
      "RuntimeError: coroutine raised StopIteration\n",
      "\n",
      "----------------------------------------------------------------------\n",
      "Ran 9 tests in 2.044s\n",
      "\n",
      "FAILED (errors=1)\n",
      "Exception ignored in: <function SpooledTemporaryFile.__del__ at 0x76fd1d307560>\n",
      "Traceback (most recent call last):\n",
      "  File \"/opt/miniconda3/lib/python3.11/tempfile.py\", line 732, in __del__\n",
      "    _warnings.warn(\n",
      "ResourceWarning: Unclosed file <tempfile.SpooledTemporaryFile object at 0x76fd1c1b80a0>\n",
      "Exception ignored in: <function SpooledTemporaryFile.__del__ at 0x76fd1d307560>\n",
      "Traceback (most recent call last):\n",
      "  File \"/opt/miniconda3/lib/python3.11/tempfile.py\", line 732, in __del__\n",
      "    _warnings.warn(\n",
      "ResourceWarning: Unclosed file <tempfile.SpooledTemporaryFile object at 0x76fd1c3948b0>\n",
      "Exception ignored in: <function SpooledTemporaryFile.__del__ at 0x76fd1d307560>\n",
      "Traceback (most recent call last):\n",
      "  File \"/opt/miniconda3/lib/python3.11/tempfile.py\", line 732, in __del__\n",
      "    _warnings.warn(\n",
      "ResourceWarning: Unclosed file <tempfile.SpooledTemporaryFile object at 0x76fd1bf5f040>\n",
      "Exception ignored in: <function SpooledTemporaryFile.__del__ at 0x76fd1d307560>\n",
      "Traceback (most recent call last):\n",
      "  File \"/opt/miniconda3/lib/python3.11/tempfile.py\", line 732, in __del__\n",
      "    _warnings.warn(\n",
      "ResourceWarning: Unclosed file <tempfile.SpooledTemporaryFile object at 0x76fd1bf5f250>\n",
      "Exception ignored in: <function SpooledTemporaryFile.__del__ at 0x76fd1d307560>\n",
      "Traceback (most recent call last):\n",
      "  File \"/opt/miniconda3/lib/python3.11/tempfile.py\", line 732, in __del__\n",
      "    _warnings.warn(\n",
      "ResourceWarning: Unclosed file <tempfile.SpooledTemporaryFile object at 0x76fd1bf5c040>\n",
      "Exception ignored in: <function SpooledTemporaryFile.__del__ at 0x76fd1d307560>\n",
      "Traceback (most recent call last):\n",
      "  File \"/opt/miniconda3/lib/python3.11/tempfile.py\", line 732, in __del__\n",
      "    _warnings.warn(\n",
      "ResourceWarning: Unclosed file <tempfile.SpooledTemporaryFile object at 0x76fd1bf5c5e0>\n",
      "\n"
     ]
    }
   ],
   "source": [
    "# print(code_editor.ls(\"django/core\"))\n",
    "# print(code_editor.open_file(\"django/core/asgi.py\"))\n",
    "print(code_editor.insert(\"django/core/asgi.py\", 1, \"import io\"))\n",
    "print(code_editor.str_replace(\"django/core/asgi.py\", \"import io\", \"import sys\"))"
   ]
  },
  {
   "cell_type": "code",
   "execution_count": 5,
   "id": "d99f3c56",
   "metadata": {},
   "outputs": [
    {
     "data": {
      "text/plain": [
       "['./tests/runtests.py --verbosity 2 --settings=test_sqlite --parallel 1 asgi.tests']"
      ]
     },
     "execution_count": 5,
     "metadata": {},
     "output_type": "execute_result"
    }
   ],
   "source": [
    "from swebench_utils import get_test_script\n",
    "\n",
    "get_test_script(instance_details, [\"tests/asgi/tests.py\"])"
   ]
  },
  {
   "cell_type": "code",
   "execution_count": null,
   "id": "739e8a259661a7c4",
   "metadata": {
    "ExecuteTime": {
     "end_time": "2025-01-19T04:13:38.399086Z",
     "start_time": "2025-01-19T04:13:37.136587Z"
    },
    "collapsed": false
   },
   "outputs": [
    {
     "name": "stderr",
     "output_type": "stream",
     "text": [
      "2025-01-19 17:17:09,152 - botocore.credentials - INFO - Found credentials from IAM Role: Test-EC2-S3-FullAccess\n"
     ]
    },
    {
     "data": {
      "image/png": "[encoded data removed]",
      "text/plain": [
       "<IPython.core.display.Image object>"
      ]
     },
     "metadata": {},
     "output_type": "display_data"
    }
   ],
   "source": [
    "from langchain_aws import ChatBedrockConverse\n",
    "from langgraph.prebuilt.tool_node import ToolNode\n",
    "from langgraph.graph import StateGraph, MessagesState, START, END\n",
    "from IPython.display import Image\n",
    "import prompt_templates as pt\n",
    "from dotenv import load_dotenv\n",
    "from botocore.config import Config\n",
    "from typing import Annotated, List\n",
    "import operator\n",
    "\n",
    "\n",
    "load_dotenv(\"../.env\")\n",
    "\n",
    "llm = ChatBedrockConverse(\n",
    "    model=\"us.anthropic.claude-3-5-sonnet-20240620-v1:0\",\n",
    "    # credentials_profile_name=\"ediewald+1111-Admin\",\n",
    "    config=Config(\n",
    "        retries={\"max_attempts\": 100}\n",
    "    ),\n",
    "    region_name=\"us-east-1\",\n",
    ")\n",
    "\n",
    "def submit():\n",
    "    \"\"\"Submit your changes once complete.\"\"\"\n",
    "    return env.get_patch()\n",
    "\n",
    "tools = [\n",
    "    code_editor.open_file,\n",
    "    code_editor.scroll_up,\n",
    "    code_editor.scroll_down,\n",
    "    code_editor.ls,\n",
    "    code_editor.search_files,\n",
    "    code_editor.code_search,\n",
    "    code_editor.edit_file,\n",
    "    code_editor.run_python_file,\n",
    "    code_editor.execute_command,\n",
    "    code_editor.rm,\n",
    "    submit\n",
    "]\n",
    "\n",
    "llm_with_tools = llm.bind_tools(tools)\n",
    "\n",
    "class CodeReviewerState(MessagesState):\n",
    "    patch: str\n",
    "    trajectory: Annotated[List[str], operator.add]\n",
    "\n",
    "def assistant(state: CodeReviewerState):\n",
    "    # todo: collapse messages efficiently - e.g. remove failed tool calls\n",
    "    next_message = llm_with_tools.invoke([pt.AGENT_INSTRUCTIONS] + state[\"messages\"])\n",
    "    return {\n",
    "        \"messages\": [next_message],\n",
    "        \"trajectory\": [next_message.pretty_print()]\n",
    "    }\n",
    "    \n",
    "def get_patch(state: CodeReviewerState):\n",
    "    patch = env.get_patch()\n",
    "    return {\"patch\": patch}\n",
    "\n",
    "def route_messages(state: CodeReviewerState):\n",
    "    last_message = state[\"messages\"][-1]\n",
    "    if last_message and \"submit\" in [t.get(\"name\") for t in last_message.tool_calls]:\n",
    "        return \"get_patch\"  # Route to end\n",
    "    else:\n",
    "        return \"tool_node\"  # Route back to tool node\n",
    "    \n",
    "workflow = StateGraph(CodeReviewerState)\n",
    "\n",
    "workflow.add_node(\"assistant\", assistant)\n",
    "workflow.add_node(\"tool_node\", ToolNode(tools))\n",
    "workflow.add_node(\"get_patch\", get_patch)\n",
    "\n",
    "# Define edges: these determine how the control flow moves\n",
    "workflow.add_edge(START, \"assistant\")\n",
    "workflow.add_conditional_edges(\n",
    "    \"assistant\",\n",
    "    # If the latest message (result) from assistant is a tool call -> tools_condition routes to tools\n",
    "    # If the latest message (result) from assistant is a not a tool call -> tools_condition routes to END\n",
    "    route_messages,\n",
    ")\n",
    "workflow.add_edge(\"tool_node\", \"assistant\")\n",
    "workflow.add_edge(\"get_patch\", END)\n",
    "graph = workflow.compile()\n",
    "\n",
    "# Show\n",
    "display(Image(graph.get_graph(xray=True).draw_mermaid_png()))"
   ]
  },
  {
   "cell_type": "code",
   "execution_count": 6,
   "id": "b1823d09448a00cf",
   "metadata": {
    "ExecuteTime": {
     "end_time": "2025-01-19T04:17:50.597376Z",
     "start_time": "2025-01-19T04:13:45.974946Z"
    },
    "collapsed": false
   },
   "outputs": [
    {
     "name": "stdout",
     "output_type": "stream",
     "text": [
      "==================================\u001b[1m Ai Message \u001b[0m==================================\n",
      "\n",
      "[{'type': 'text', 'text': \"Certainly! I'll go through the process step-by-step to resolve this issue. Let's begin with reproducing the issue.\\n\\n1. REPRODUCE_ISSUE:\\nFirst, I'll create a file to reproduce the issue.\"}, {'type': 'tool_use', 'name': 'edit_file', 'input': {'file_path': 'reproduce_issue.py', 'start_line': 1, 'end_line': 1, 'new_content': 'import pytest\\n\\n@pytest.mark.skip\\ndef test_skip_location() -> None:\\n    assert 0\\n\\nif __name__ == \"__main__\":\\n    import sys\\n    sys.exit(pytest.main([__file__, \"-rs\", \"--runxfail\"]))'}, 'id': 'tooluse_of1MB9rAR0Km50i4euAwqQ'}]\n",
      "Tool Calls:\n",
      "  edit_file (tooluse_of1MB9rAR0Km50i4euAwqQ)\n",
      " Call ID: tooluse_of1MB9rAR0Km50i4euAwqQ\n",
      "  Args:\n",
      "    file_path: reproduce_issue.py\n",
      "    start_line: 1\n",
      "    end_line: 1\n",
      "    new_content: import pytest\n",
      "\n",
      "@pytest.mark.skip\n",
      "def test_skip_location() -> None:\n",
      "    assert 0\n",
      "\n",
      "if __name__ == \"__main__\":\n",
      "    import sys\n",
      "    sys.exit(pytest.main([__file__, \"-rs\", \"--runxfail\"]))\n",
      "==================================\u001b[1m Ai Message \u001b[0m==================================\n",
      "\n",
      "[{'type': 'text', 'text': \"Certainly! I'll go through the process step-by-step to resolve this issue. Let's begin with reproducing the issue.\\n\\n1. REPRODUCE_ISSUE:\\nFirst, I'll create a file to reproduce the issue.\"}, {'type': 'tool_use', 'name': 'edit_file', 'input': {'file_path': 'reproduce_issue.py', 'start_line': 1, 'end_line': 1, 'new_content': 'import pytest\\n\\n@pytest.mark.skip\\ndef test_skip_location() -> None:\\n    assert 0\\n\\nif __name__ == \"__main__\":\\n    import sys\\n    sys.exit(pytest.main([__file__, \"-rs\", \"--runxfail\"]))'}, 'id': 'tooluse_of1MB9rAR0Km50i4euAwqQ'}]\n",
      "Tool Calls:\n",
      "  edit_file (tooluse_of1MB9rAR0Km50i4euAwqQ)\n",
      " Call ID: tooluse_of1MB9rAR0Km50i4euAwqQ\n",
      "  Args:\n",
      "    file_path: reproduce_issue.py\n",
      "    start_line: 1\n",
      "    end_line: 1\n",
      "    new_content: import pytest\n",
      "\n",
      "@pytest.mark.skip\n",
      "def test_skip_location() -> None:\n",
      "    assert 0\n",
      "\n",
      "if __name__ == \"__main__\":\n",
      "    import sys\n",
      "    sys.exit(pytest.main([__file__, \"-rs\", \"--runxfail\"]))\n",
      "=================================\u001b[1m Tool Message \u001b[0m=================================\n",
      "Name: edit_file\n",
      "\n",
      "File reproduce_issue.py created successfully.\n",
      "==================================\u001b[1m Ai Message \u001b[0m==================================\n",
      "\n",
      "[{'type': 'text', 'text': \"Now, let's run this file to reproduce the issue:\"}, {'type': 'tool_use', 'name': 'run_python_file', 'input': {'file_path': 'reproduce_issue.py'}, 'id': 'tooluse_XVc0ArrgRje1lB_70AakHQ'}]\n",
      "Tool Calls:\n",
      "  run_python_file (tooluse_XVc0ArrgRje1lB_70AakHQ)\n",
      " Call ID: tooluse_XVc0ArrgRje1lB_70AakHQ\n",
      "  Args:\n",
      "    file_path: reproduce_issue.py\n",
      "==================================\u001b[1m Ai Message \u001b[0m==================================\n",
      "\n",
      "[{'type': 'text', 'text': \"Now, let's run this file to reproduce the issue:\"}, {'type': 'tool_use', 'name': 'run_python_file', 'input': {'file_path': 'reproduce_issue.py'}, 'id': 'tooluse_XVc0ArrgRje1lB_70AakHQ'}]\n",
      "Tool Calls:\n",
      "  run_python_file (tooluse_XVc0ArrgRje1lB_70AakHQ)\n",
      " Call ID: tooluse_XVc0ArrgRje1lB_70AakHQ\n",
      "  Args:\n",
      "    file_path: reproduce_issue.py\n",
      "=================================\u001b[1m Tool Message \u001b[0m=================================\n",
      "Name: run_python_file\n",
      "\n",
      "============================= test session starts ==============================\n",
      "platform linux -- Python 3.9.21, pytest-5.4.1.dev593+ge6e300e72, py-1.11.0, pluggy-0.13.1\n",
      "rootdir: /testbed, configfile: pyproject.toml\n",
      "collected 1 item\n",
      "\n",
      "reproduce_issue.py s                                                     [100%]\n",
      "\n",
      "=========================== short test summary info ============================\n",
      "SKIPPED [1] src/_pytest/skipping.py:239: unconditional skip\n",
      "============================== 1 skipped in 0.01s ==============================\n",
      "\n",
      "\n"
     ]
    },
    {
     "ename": "KeyboardInterrupt",
     "evalue": "",
     "output_type": "error",
     "traceback": [
      "\u001b[0;31m---------------------------------------------------------------------------\u001b[0m",
      "\u001b[0;31mKeyboardInterrupt\u001b[0m                         Traceback (most recent call last)",
      "Cell \u001b[0;32mIn[6], line 11\u001b[0m\n\u001b[1;32m      9\u001b[0m \u001b[38;5;66;03m# Start conversation\u001b[39;00m\n\u001b[1;32m     10\u001b[0m model_patch \u001b[38;5;241m=\u001b[39m \u001b[38;5;28;01mNone\u001b[39;00m\n\u001b[0;32m---> 11\u001b[0m \u001b[38;5;28;43;01mfor\u001b[39;49;00m\u001b[43m \u001b[49m\u001b[43mchunk\u001b[49m\u001b[43m \u001b[49m\u001b[38;5;129;43;01min\u001b[39;49;00m\u001b[43m \u001b[49m\u001b[43mgraph\u001b[49m\u001b[38;5;241;43m.\u001b[39;49m\u001b[43mstream\u001b[49m\u001b[43m(\u001b[49m\u001b[43m{\u001b[49m\u001b[38;5;124;43m\"\u001b[39;49m\u001b[38;5;124;43mmessages\u001b[39;49m\u001b[38;5;124;43m\"\u001b[39;49m\u001b[43m:\u001b[49m\u001b[43m \u001b[49m\u001b[43mmessages\u001b[49m\u001b[43m}\u001b[49m\u001b[43m,\u001b[49m\u001b[43m \u001b[49m\u001b[43mstream_mode\u001b[49m\u001b[38;5;241;43m=\u001b[39;49m\u001b[38;5;124;43m\"\u001b[39;49m\u001b[38;5;124;43mupdates\u001b[39;49m\u001b[38;5;124;43m\"\u001b[39;49m\u001b[43m)\u001b[49m\u001b[43m:\u001b[49m\n\u001b[1;32m     12\u001b[0m \u001b[43m    \u001b[49m\u001b[38;5;28;43;01mif\u001b[39;49;00m\u001b[43m \u001b[49m\u001b[38;5;124;43m\"\u001b[39;49m\u001b[38;5;124;43mtool_node\u001b[39;49m\u001b[38;5;124;43m\"\u001b[39;49m\u001b[43m \u001b[49m\u001b[38;5;129;43;01min\u001b[39;49;00m\u001b[43m \u001b[49m\u001b[43mchunk\u001b[49m\u001b[43m:\u001b[49m\n\u001b[1;32m     13\u001b[0m \u001b[43m        \u001b[49m\u001b[43mchunk\u001b[49m\u001b[43m[\u001b[49m\u001b[38;5;124;43m\"\u001b[39;49m\u001b[38;5;124;43mtool_node\u001b[39;49m\u001b[38;5;124;43m\"\u001b[39;49m\u001b[43m]\u001b[49m\u001b[43m[\u001b[49m\u001b[38;5;124;43m\"\u001b[39;49m\u001b[38;5;124;43mmessages\u001b[39;49m\u001b[38;5;124;43m\"\u001b[39;49m\u001b[43m]\u001b[49m\u001b[43m[\u001b[49m\u001b[38;5;241;43m-\u001b[39;49m\u001b[38;5;241;43m1\u001b[39;49m\u001b[43m]\u001b[49m\u001b[38;5;241;43m.\u001b[39;49m\u001b[43mpretty_print\u001b[49m\u001b[43m(\u001b[49m\u001b[43m)\u001b[49m\n",
      "File \u001b[0;32m~/ai-issue-review/venv/lib/python3.12/site-packages/langgraph/pregel/__init__.py:1670\u001b[0m, in \u001b[0;36mPregel.stream\u001b[0;34m(self, input, config, stream_mode, output_keys, interrupt_before, interrupt_after, debug, subgraphs)\u001b[0m\n\u001b[1;32m   1664\u001b[0m     \u001b[38;5;66;03m# Similarly to Bulk Synchronous Parallel / Pregel model\u001b[39;00m\n\u001b[1;32m   1665\u001b[0m     \u001b[38;5;66;03m# computation proceeds in steps, while there are channel updates.\u001b[39;00m\n\u001b[1;32m   1666\u001b[0m     \u001b[38;5;66;03m# Channel updates from step N are only visible in step N+1\u001b[39;00m\n\u001b[1;32m   1667\u001b[0m     \u001b[38;5;66;03m# channels are guaranteed to be immutable for the duration of the step,\u001b[39;00m\n\u001b[1;32m   1668\u001b[0m     \u001b[38;5;66;03m# with channel updates applied only at the transition between steps.\u001b[39;00m\n\u001b[1;32m   1669\u001b[0m     \u001b[38;5;28;01mwhile\u001b[39;00m loop\u001b[38;5;241m.\u001b[39mtick(input_keys\u001b[38;5;241m=\u001b[39m\u001b[38;5;28mself\u001b[39m\u001b[38;5;241m.\u001b[39minput_channels):\n\u001b[0;32m-> 1670\u001b[0m \u001b[43m        \u001b[49m\u001b[38;5;28;43;01mfor\u001b[39;49;00m\u001b[43m \u001b[49m\u001b[43m_\u001b[49m\u001b[43m \u001b[49m\u001b[38;5;129;43;01min\u001b[39;49;00m\u001b[43m \u001b[49m\u001b[43mrunner\u001b[49m\u001b[38;5;241;43m.\u001b[39;49m\u001b[43mtick\u001b[49m\u001b[43m(\u001b[49m\n\u001b[1;32m   1671\u001b[0m \u001b[43m            \u001b[49m\u001b[43mloop\u001b[49m\u001b[38;5;241;43m.\u001b[39;49m\u001b[43mtasks\u001b[49m\u001b[38;5;241;43m.\u001b[39;49m\u001b[43mvalues\u001b[49m\u001b[43m(\u001b[49m\u001b[43m)\u001b[49m\u001b[43m,\u001b[49m\n\u001b[1;32m   1672\u001b[0m \u001b[43m            \u001b[49m\u001b[43mtimeout\u001b[49m\u001b[38;5;241;43m=\u001b[39;49m\u001b[38;5;28;43mself\u001b[39;49m\u001b[38;5;241;43m.\u001b[39;49m\u001b[43mstep_timeout\u001b[49m\u001b[43m,\u001b[49m\n\u001b[1;32m   1673\u001b[0m \u001b[43m            \u001b[49m\u001b[43mretry_policy\u001b[49m\u001b[38;5;241;43m=\u001b[39;49m\u001b[38;5;28;43mself\u001b[39;49m\u001b[38;5;241;43m.\u001b[39;49m\u001b[43mretry_policy\u001b[49m\u001b[43m,\u001b[49m\n\u001b[1;32m   1674\u001b[0m \u001b[43m            \u001b[49m\u001b[43mget_waiter\u001b[49m\u001b[38;5;241;43m=\u001b[39;49m\u001b[43mget_waiter\u001b[49m\u001b[43m,\u001b[49m\n\u001b[1;32m   1675\u001b[0m \u001b[43m        \u001b[49m\u001b[43m)\u001b[49m\u001b[43m:\u001b[49m\n\u001b[1;32m   1676\u001b[0m \u001b[43m            \u001b[49m\u001b[38;5;66;43;03m# emit output\u001b[39;49;00m\n\u001b[1;32m   1677\u001b[0m \u001b[43m            \u001b[49m\u001b[38;5;28;43;01myield from\u001b[39;49;00m\u001b[43m \u001b[49m\u001b[43moutput\u001b[49m\u001b[43m(\u001b[49m\u001b[43m)\u001b[49m\n\u001b[1;32m   1678\u001b[0m \u001b[38;5;66;03m# emit output\u001b[39;00m\n",
      "File \u001b[0;32m~/ai-issue-review/venv/lib/python3.12/site-packages/langgraph/pregel/runner.py:171\u001b[0m, in \u001b[0;36mPregelRunner.tick\u001b[0;34m(self, tasks, reraise, timeout, retry_policy, get_waiter)\u001b[0m\n\u001b[1;32m    169\u001b[0m t \u001b[38;5;241m=\u001b[39m tasks[\u001b[38;5;241m0\u001b[39m]\n\u001b[1;32m    170\u001b[0m \u001b[38;5;28;01mtry\u001b[39;00m:\n\u001b[0;32m--> 171\u001b[0m     \u001b[43mrun_with_retry\u001b[49m\u001b[43m(\u001b[49m\n\u001b[1;32m    172\u001b[0m \u001b[43m        \u001b[49m\u001b[43mt\u001b[49m\u001b[43m,\u001b[49m\n\u001b[1;32m    173\u001b[0m \u001b[43m        \u001b[49m\u001b[43mretry_policy\u001b[49m\u001b[43m,\u001b[49m\n\u001b[1;32m    174\u001b[0m \u001b[43m        \u001b[49m\u001b[43mconfigurable\u001b[49m\u001b[38;5;241;43m=\u001b[39;49m\u001b[43m{\u001b[49m\n\u001b[1;32m    175\u001b[0m \u001b[43m            \u001b[49m\u001b[43mCONFIG_KEY_SEND\u001b[49m\u001b[43m:\u001b[49m\u001b[43m \u001b[49m\u001b[43mpartial\u001b[49m\u001b[43m(\u001b[49m\u001b[43mwriter\u001b[49m\u001b[43m,\u001b[49m\u001b[43m \u001b[49m\u001b[43mt\u001b[49m\u001b[43m)\u001b[49m\u001b[43m,\u001b[49m\n\u001b[1;32m    176\u001b[0m \u001b[43m            \u001b[49m\u001b[43mCONFIG_KEY_CALL\u001b[49m\u001b[43m:\u001b[49m\u001b[43m \u001b[49m\u001b[43mpartial\u001b[49m\u001b[43m(\u001b[49m\u001b[43mcall\u001b[49m\u001b[43m,\u001b[49m\u001b[43m \u001b[49m\u001b[43mt\u001b[49m\u001b[43m)\u001b[49m\u001b[43m,\u001b[49m\n\u001b[1;32m    177\u001b[0m \u001b[43m        \u001b[49m\u001b[43m}\u001b[49m\u001b[43m,\u001b[49m\n\u001b[1;32m    178\u001b[0m \u001b[43m    \u001b[49m\u001b[43m)\u001b[49m\n\u001b[1;32m    179\u001b[0m     \u001b[38;5;28mself\u001b[39m\u001b[38;5;241m.\u001b[39mcommit(t, \u001b[38;5;28;01mNone\u001b[39;00m)\n\u001b[1;32m    180\u001b[0m \u001b[38;5;28;01mexcept\u001b[39;00m \u001b[38;5;167;01mException\u001b[39;00m \u001b[38;5;28;01mas\u001b[39;00m exc:\n",
      "File \u001b[0;32m~/ai-issue-review/venv/lib/python3.12/site-packages/langgraph/pregel/retry.py:40\u001b[0m, in \u001b[0;36mrun_with_retry\u001b[0;34m(task, retry_policy, configurable)\u001b[0m\n\u001b[1;32m     38\u001b[0m     task\u001b[38;5;241m.\u001b[39mwrites\u001b[38;5;241m.\u001b[39mclear()\n\u001b[1;32m     39\u001b[0m     \u001b[38;5;66;03m# run the task\u001b[39;00m\n\u001b[0;32m---> 40\u001b[0m     \u001b[38;5;28;01mreturn\u001b[39;00m \u001b[43mtask\u001b[49m\u001b[38;5;241;43m.\u001b[39;49m\u001b[43mproc\u001b[49m\u001b[38;5;241;43m.\u001b[39;49m\u001b[43minvoke\u001b[49m\u001b[43m(\u001b[49m\u001b[43mtask\u001b[49m\u001b[38;5;241;43m.\u001b[39;49m\u001b[43minput\u001b[49m\u001b[43m,\u001b[49m\u001b[43m \u001b[49m\u001b[43mconfig\u001b[49m\u001b[43m)\u001b[49m\n\u001b[1;32m     41\u001b[0m \u001b[38;5;28;01mexcept\u001b[39;00m ParentCommand \u001b[38;5;28;01mas\u001b[39;00m exc:\n\u001b[1;32m     42\u001b[0m     ns: \u001b[38;5;28mstr\u001b[39m \u001b[38;5;241m=\u001b[39m config[CONF][CONFIG_KEY_CHECKPOINT_NS]\n",
      "File \u001b[0;32m~/ai-issue-review/venv/lib/python3.12/site-packages/langgraph/utils/runnable.py:448\u001b[0m, in \u001b[0;36mRunnableSeq.invoke\u001b[0;34m(self, input, config, **kwargs)\u001b[0m\n\u001b[1;32m    444\u001b[0m config \u001b[38;5;241m=\u001b[39m patch_config(\n\u001b[1;32m    445\u001b[0m     config, callbacks\u001b[38;5;241m=\u001b[39mrun_manager\u001b[38;5;241m.\u001b[39mget_child(\u001b[38;5;124mf\u001b[39m\u001b[38;5;124m\"\u001b[39m\u001b[38;5;124mseq:step:\u001b[39m\u001b[38;5;132;01m{\u001b[39;00mi\u001b[38;5;241m+\u001b[39m\u001b[38;5;241m1\u001b[39m\u001b[38;5;132;01m}\u001b[39;00m\u001b[38;5;124m\"\u001b[39m)\n\u001b[1;32m    446\u001b[0m )\n\u001b[1;32m    447\u001b[0m \u001b[38;5;28;01mif\u001b[39;00m i \u001b[38;5;241m==\u001b[39m \u001b[38;5;241m0\u001b[39m:\n\u001b[0;32m--> 448\u001b[0m     \u001b[38;5;28minput\u001b[39m \u001b[38;5;241m=\u001b[39m \u001b[43mstep\u001b[49m\u001b[38;5;241;43m.\u001b[39;49m\u001b[43minvoke\u001b[49m\u001b[43m(\u001b[49m\u001b[38;5;28;43minput\u001b[39;49m\u001b[43m,\u001b[49m\u001b[43m \u001b[49m\u001b[43mconfig\u001b[49m\u001b[43m,\u001b[49m\u001b[43m \u001b[49m\u001b[38;5;241;43m*\u001b[39;49m\u001b[38;5;241;43m*\u001b[39;49m\u001b[43mkwargs\u001b[49m\u001b[43m)\u001b[49m\n\u001b[1;32m    449\u001b[0m \u001b[38;5;28;01melse\u001b[39;00m:\n\u001b[1;32m    450\u001b[0m     \u001b[38;5;28minput\u001b[39m \u001b[38;5;241m=\u001b[39m step\u001b[38;5;241m.\u001b[39minvoke(\u001b[38;5;28minput\u001b[39m, config)\n",
      "File \u001b[0;32m~/ai-issue-review/venv/lib/python3.12/site-packages/langgraph/utils/runnable.py:219\u001b[0m, in \u001b[0;36mRunnableCallable.invoke\u001b[0;34m(self, input, config, **kwargs)\u001b[0m\n\u001b[1;32m    217\u001b[0m \u001b[38;5;28;01melse\u001b[39;00m:\n\u001b[1;32m    218\u001b[0m     context\u001b[38;5;241m.\u001b[39mrun(_set_config_context, config)\n\u001b[0;32m--> 219\u001b[0m     ret \u001b[38;5;241m=\u001b[39m \u001b[43mcontext\u001b[49m\u001b[38;5;241;43m.\u001b[39;49m\u001b[43mrun\u001b[49m\u001b[43m(\u001b[49m\u001b[38;5;28;43mself\u001b[39;49m\u001b[38;5;241;43m.\u001b[39;49m\u001b[43mfunc\u001b[49m\u001b[43m,\u001b[49m\u001b[43m \u001b[49m\u001b[38;5;28;43minput\u001b[39;49m\u001b[43m,\u001b[49m\u001b[43m \u001b[49m\u001b[38;5;241;43m*\u001b[39;49m\u001b[38;5;241;43m*\u001b[39;49m\u001b[43mkwargs\u001b[49m\u001b[43m)\u001b[49m\n\u001b[1;32m    220\u001b[0m \u001b[38;5;28;01mif\u001b[39;00m \u001b[38;5;28misinstance\u001b[39m(ret, Runnable) \u001b[38;5;129;01mand\u001b[39;00m \u001b[38;5;28mself\u001b[39m\u001b[38;5;241m.\u001b[39mrecurse:\n\u001b[1;32m    221\u001b[0m     \u001b[38;5;28;01mreturn\u001b[39;00m ret\u001b[38;5;241m.\u001b[39minvoke(\u001b[38;5;28minput\u001b[39m, config)\n",
      "Cell \u001b[0;32mIn[5], line 49\u001b[0m, in \u001b[0;36massistant\u001b[0;34m(state)\u001b[0m\n\u001b[1;32m     47\u001b[0m \u001b[38;5;28;01mdef\u001b[39;00m\u001b[38;5;250m \u001b[39m\u001b[38;5;21massistant\u001b[39m(state: CodeReviewerState):\n\u001b[1;32m     48\u001b[0m     \u001b[38;5;66;03m# todo: collapse messages efficiently - e.g. remove failed tool calls\u001b[39;00m\n\u001b[0;32m---> 49\u001b[0m     next_message \u001b[38;5;241m=\u001b[39m \u001b[43mllm_with_tools\u001b[49m\u001b[38;5;241;43m.\u001b[39;49m\u001b[43minvoke\u001b[49m\u001b[43m(\u001b[49m\u001b[43m[\u001b[49m\u001b[43mpt\u001b[49m\u001b[38;5;241;43m.\u001b[39;49m\u001b[43mAGENT_INSTRUCTIONS\u001b[49m\u001b[43m]\u001b[49m\u001b[43m \u001b[49m\u001b[38;5;241;43m+\u001b[39;49m\u001b[43m \u001b[49m\u001b[43mstate\u001b[49m\u001b[43m[\u001b[49m\u001b[38;5;124;43m\"\u001b[39;49m\u001b[38;5;124;43mmessages\u001b[39;49m\u001b[38;5;124;43m\"\u001b[39;49m\u001b[43m]\u001b[49m\u001b[43m)\u001b[49m\n\u001b[1;32m     50\u001b[0m     \u001b[38;5;28;01mreturn\u001b[39;00m {\n\u001b[1;32m     51\u001b[0m         \u001b[38;5;124m\"\u001b[39m\u001b[38;5;124mmessages\u001b[39m\u001b[38;5;124m\"\u001b[39m: [next_message],\n\u001b[1;32m     52\u001b[0m         \u001b[38;5;124m\"\u001b[39m\u001b[38;5;124mtrajectory\u001b[39m\u001b[38;5;124m\"\u001b[39m: [next_message\u001b[38;5;241m.\u001b[39mpretty_print()]\n\u001b[1;32m     53\u001b[0m     }\n",
      "File \u001b[0;32m~/ai-issue-review/venv/lib/python3.12/site-packages/langchain_core/runnables/base.py:5352\u001b[0m, in \u001b[0;36mRunnableBindingBase.invoke\u001b[0;34m(self, input, config, **kwargs)\u001b[0m\n\u001b[1;32m   5346\u001b[0m \u001b[38;5;28;01mdef\u001b[39;00m\u001b[38;5;250m \u001b[39m\u001b[38;5;21minvoke\u001b[39m(\n\u001b[1;32m   5347\u001b[0m     \u001b[38;5;28mself\u001b[39m,\n\u001b[1;32m   5348\u001b[0m     \u001b[38;5;28minput\u001b[39m: Input,\n\u001b[1;32m   5349\u001b[0m     config: Optional[RunnableConfig] \u001b[38;5;241m=\u001b[39m \u001b[38;5;28;01mNone\u001b[39;00m,\n\u001b[1;32m   5350\u001b[0m     \u001b[38;5;241m*\u001b[39m\u001b[38;5;241m*\u001b[39mkwargs: Optional[Any],\n\u001b[1;32m   5351\u001b[0m ) \u001b[38;5;241m-\u001b[39m\u001b[38;5;241m>\u001b[39m Output:\n\u001b[0;32m-> 5352\u001b[0m     \u001b[38;5;28;01mreturn\u001b[39;00m \u001b[38;5;28;43mself\u001b[39;49m\u001b[38;5;241;43m.\u001b[39;49m\u001b[43mbound\u001b[49m\u001b[38;5;241;43m.\u001b[39;49m\u001b[43minvoke\u001b[49m\u001b[43m(\u001b[49m\n\u001b[1;32m   5353\u001b[0m \u001b[43m        \u001b[49m\u001b[38;5;28;43minput\u001b[39;49m\u001b[43m,\u001b[49m\n\u001b[1;32m   5354\u001b[0m \u001b[43m        \u001b[49m\u001b[38;5;28;43mself\u001b[39;49m\u001b[38;5;241;43m.\u001b[39;49m\u001b[43m_merge_configs\u001b[49m\u001b[43m(\u001b[49m\u001b[43mconfig\u001b[49m\u001b[43m)\u001b[49m\u001b[43m,\u001b[49m\n\u001b[1;32m   5355\u001b[0m \u001b[43m        \u001b[49m\u001b[38;5;241;43m*\u001b[39;49m\u001b[38;5;241;43m*\u001b[39;49m\u001b[43m{\u001b[49m\u001b[38;5;241;43m*\u001b[39;49m\u001b[38;5;241;43m*\u001b[39;49m\u001b[38;5;28;43mself\u001b[39;49m\u001b[38;5;241;43m.\u001b[39;49m\u001b[43mkwargs\u001b[49m\u001b[43m,\u001b[49m\u001b[43m \u001b[49m\u001b[38;5;241;43m*\u001b[39;49m\u001b[38;5;241;43m*\u001b[39;49m\u001b[43mkwargs\u001b[49m\u001b[43m}\u001b[49m\u001b[43m,\u001b[49m\n\u001b[1;32m   5356\u001b[0m \u001b[43m    \u001b[49m\u001b[43m)\u001b[49m\n",
      "File \u001b[0;32m~/ai-issue-review/venv/lib/python3.12/site-packages/langchain_core/language_models/chat_models.py:286\u001b[0m, in \u001b[0;36mBaseChatModel.invoke\u001b[0;34m(self, input, config, stop, **kwargs)\u001b[0m\n\u001b[1;32m    275\u001b[0m \u001b[38;5;28;01mdef\u001b[39;00m\u001b[38;5;250m \u001b[39m\u001b[38;5;21minvoke\u001b[39m(\n\u001b[1;32m    276\u001b[0m     \u001b[38;5;28mself\u001b[39m,\n\u001b[1;32m    277\u001b[0m     \u001b[38;5;28minput\u001b[39m: LanguageModelInput,\n\u001b[0;32m   (...)\u001b[0m\n\u001b[1;32m    281\u001b[0m     \u001b[38;5;241m*\u001b[39m\u001b[38;5;241m*\u001b[39mkwargs: Any,\n\u001b[1;32m    282\u001b[0m ) \u001b[38;5;241m-\u001b[39m\u001b[38;5;241m>\u001b[39m BaseMessage:\n\u001b[1;32m    283\u001b[0m     config \u001b[38;5;241m=\u001b[39m ensure_config(config)\n\u001b[1;32m    284\u001b[0m     \u001b[38;5;28;01mreturn\u001b[39;00m cast(\n\u001b[1;32m    285\u001b[0m         ChatGeneration,\n\u001b[0;32m--> 286\u001b[0m         \u001b[38;5;28;43mself\u001b[39;49m\u001b[38;5;241;43m.\u001b[39;49m\u001b[43mgenerate_prompt\u001b[49m\u001b[43m(\u001b[49m\n\u001b[1;32m    287\u001b[0m \u001b[43m            \u001b[49m\u001b[43m[\u001b[49m\u001b[38;5;28;43mself\u001b[39;49m\u001b[38;5;241;43m.\u001b[39;49m\u001b[43m_convert_input\u001b[49m\u001b[43m(\u001b[49m\u001b[38;5;28;43minput\u001b[39;49m\u001b[43m)\u001b[49m\u001b[43m]\u001b[49m\u001b[43m,\u001b[49m\n\u001b[1;32m    288\u001b[0m \u001b[43m            \u001b[49m\u001b[43mstop\u001b[49m\u001b[38;5;241;43m=\u001b[39;49m\u001b[43mstop\u001b[49m\u001b[43m,\u001b[49m\n\u001b[1;32m    289\u001b[0m \u001b[43m            \u001b[49m\u001b[43mcallbacks\u001b[49m\u001b[38;5;241;43m=\u001b[39;49m\u001b[43mconfig\u001b[49m\u001b[38;5;241;43m.\u001b[39;49m\u001b[43mget\u001b[49m\u001b[43m(\u001b[49m\u001b[38;5;124;43m\"\u001b[39;49m\u001b[38;5;124;43mcallbacks\u001b[39;49m\u001b[38;5;124;43m\"\u001b[39;49m\u001b[43m)\u001b[49m\u001b[43m,\u001b[49m\n\u001b[1;32m    290\u001b[0m \u001b[43m            \u001b[49m\u001b[43mtags\u001b[49m\u001b[38;5;241;43m=\u001b[39;49m\u001b[43mconfig\u001b[49m\u001b[38;5;241;43m.\u001b[39;49m\u001b[43mget\u001b[49m\u001b[43m(\u001b[49m\u001b[38;5;124;43m\"\u001b[39;49m\u001b[38;5;124;43mtags\u001b[39;49m\u001b[38;5;124;43m\"\u001b[39;49m\u001b[43m)\u001b[49m\u001b[43m,\u001b[49m\n\u001b[1;32m    291\u001b[0m \u001b[43m            \u001b[49m\u001b[43mmetadata\u001b[49m\u001b[38;5;241;43m=\u001b[39;49m\u001b[43mconfig\u001b[49m\u001b[38;5;241;43m.\u001b[39;49m\u001b[43mget\u001b[49m\u001b[43m(\u001b[49m\u001b[38;5;124;43m\"\u001b[39;49m\u001b[38;5;124;43mmetadata\u001b[39;49m\u001b[38;5;124;43m\"\u001b[39;49m\u001b[43m)\u001b[49m\u001b[43m,\u001b[49m\n\u001b[1;32m    292\u001b[0m \u001b[43m            \u001b[49m\u001b[43mrun_name\u001b[49m\u001b[38;5;241;43m=\u001b[39;49m\u001b[43mconfig\u001b[49m\u001b[38;5;241;43m.\u001b[39;49m\u001b[43mget\u001b[49m\u001b[43m(\u001b[49m\u001b[38;5;124;43m\"\u001b[39;49m\u001b[38;5;124;43mrun_name\u001b[39;49m\u001b[38;5;124;43m\"\u001b[39;49m\u001b[43m)\u001b[49m\u001b[43m,\u001b[49m\n\u001b[1;32m    293\u001b[0m \u001b[43m            \u001b[49m\u001b[43mrun_id\u001b[49m\u001b[38;5;241;43m=\u001b[39;49m\u001b[43mconfig\u001b[49m\u001b[38;5;241;43m.\u001b[39;49m\u001b[43mpop\u001b[49m\u001b[43m(\u001b[49m\u001b[38;5;124;43m\"\u001b[39;49m\u001b[38;5;124;43mrun_id\u001b[39;49m\u001b[38;5;124;43m\"\u001b[39;49m\u001b[43m,\u001b[49m\u001b[43m \u001b[49m\u001b[38;5;28;43;01mNone\u001b[39;49;00m\u001b[43m)\u001b[49m\u001b[43m,\u001b[49m\n\u001b[1;32m    294\u001b[0m \u001b[43m            \u001b[49m\u001b[38;5;241;43m*\u001b[39;49m\u001b[38;5;241;43m*\u001b[39;49m\u001b[43mkwargs\u001b[49m\u001b[43m,\u001b[49m\n\u001b[1;32m    295\u001b[0m \u001b[43m        \u001b[49m\u001b[43m)\u001b[49m\u001b[38;5;241m.\u001b[39mgenerations[\u001b[38;5;241m0\u001b[39m][\u001b[38;5;241m0\u001b[39m],\n\u001b[1;32m    296\u001b[0m     )\u001b[38;5;241m.\u001b[39mmessage\n",
      "File \u001b[0;32m~/ai-issue-review/venv/lib/python3.12/site-packages/langchain_core/language_models/chat_models.py:786\u001b[0m, in \u001b[0;36mBaseChatModel.generate_prompt\u001b[0;34m(self, prompts, stop, callbacks, **kwargs)\u001b[0m\n\u001b[1;32m    778\u001b[0m \u001b[38;5;28;01mdef\u001b[39;00m\u001b[38;5;250m \u001b[39m\u001b[38;5;21mgenerate_prompt\u001b[39m(\n\u001b[1;32m    779\u001b[0m     \u001b[38;5;28mself\u001b[39m,\n\u001b[1;32m    780\u001b[0m     prompts: \u001b[38;5;28mlist\u001b[39m[PromptValue],\n\u001b[0;32m   (...)\u001b[0m\n\u001b[1;32m    783\u001b[0m     \u001b[38;5;241m*\u001b[39m\u001b[38;5;241m*\u001b[39mkwargs: Any,\n\u001b[1;32m    784\u001b[0m ) \u001b[38;5;241m-\u001b[39m\u001b[38;5;241m>\u001b[39m LLMResult:\n\u001b[1;32m    785\u001b[0m     prompt_messages \u001b[38;5;241m=\u001b[39m [p\u001b[38;5;241m.\u001b[39mto_messages() \u001b[38;5;28;01mfor\u001b[39;00m p \u001b[38;5;129;01min\u001b[39;00m prompts]\n\u001b[0;32m--> 786\u001b[0m     \u001b[38;5;28;01mreturn\u001b[39;00m \u001b[38;5;28;43mself\u001b[39;49m\u001b[38;5;241;43m.\u001b[39;49m\u001b[43mgenerate\u001b[49m\u001b[43m(\u001b[49m\u001b[43mprompt_messages\u001b[49m\u001b[43m,\u001b[49m\u001b[43m \u001b[49m\u001b[43mstop\u001b[49m\u001b[38;5;241;43m=\u001b[39;49m\u001b[43mstop\u001b[49m\u001b[43m,\u001b[49m\u001b[43m \u001b[49m\u001b[43mcallbacks\u001b[49m\u001b[38;5;241;43m=\u001b[39;49m\u001b[43mcallbacks\u001b[49m\u001b[43m,\u001b[49m\u001b[43m \u001b[49m\u001b[38;5;241;43m*\u001b[39;49m\u001b[38;5;241;43m*\u001b[39;49m\u001b[43mkwargs\u001b[49m\u001b[43m)\u001b[49m\n",
      "File \u001b[0;32m~/ai-issue-review/venv/lib/python3.12/site-packages/langchain_core/language_models/chat_models.py:643\u001b[0m, in \u001b[0;36mBaseChatModel.generate\u001b[0;34m(self, messages, stop, callbacks, tags, metadata, run_name, run_id, **kwargs)\u001b[0m\n\u001b[1;32m    641\u001b[0m         \u001b[38;5;28;01mif\u001b[39;00m run_managers:\n\u001b[1;32m    642\u001b[0m             run_managers[i]\u001b[38;5;241m.\u001b[39mon_llm_error(e, response\u001b[38;5;241m=\u001b[39mLLMResult(generations\u001b[38;5;241m=\u001b[39m[]))\n\u001b[0;32m--> 643\u001b[0m         \u001b[38;5;28;01mraise\u001b[39;00m e\n\u001b[1;32m    644\u001b[0m flattened_outputs \u001b[38;5;241m=\u001b[39m [\n\u001b[1;32m    645\u001b[0m     LLMResult(generations\u001b[38;5;241m=\u001b[39m[res\u001b[38;5;241m.\u001b[39mgenerations], llm_output\u001b[38;5;241m=\u001b[39mres\u001b[38;5;241m.\u001b[39mllm_output)  \u001b[38;5;66;03m# type: ignore[list-item]\u001b[39;00m\n\u001b[1;32m    646\u001b[0m     \u001b[38;5;28;01mfor\u001b[39;00m res \u001b[38;5;129;01min\u001b[39;00m results\n\u001b[1;32m    647\u001b[0m ]\n\u001b[1;32m    648\u001b[0m llm_output \u001b[38;5;241m=\u001b[39m \u001b[38;5;28mself\u001b[39m\u001b[38;5;241m.\u001b[39m_combine_llm_outputs([res\u001b[38;5;241m.\u001b[39mllm_output \u001b[38;5;28;01mfor\u001b[39;00m res \u001b[38;5;129;01min\u001b[39;00m results])\n",
      "File \u001b[0;32m~/ai-issue-review/venv/lib/python3.12/site-packages/langchain_core/language_models/chat_models.py:633\u001b[0m, in \u001b[0;36mBaseChatModel.generate\u001b[0;34m(self, messages, stop, callbacks, tags, metadata, run_name, run_id, **kwargs)\u001b[0m\n\u001b[1;32m    630\u001b[0m \u001b[38;5;28;01mfor\u001b[39;00m i, m \u001b[38;5;129;01min\u001b[39;00m \u001b[38;5;28menumerate\u001b[39m(messages):\n\u001b[1;32m    631\u001b[0m     \u001b[38;5;28;01mtry\u001b[39;00m:\n\u001b[1;32m    632\u001b[0m         results\u001b[38;5;241m.\u001b[39mappend(\n\u001b[0;32m--> 633\u001b[0m             \u001b[38;5;28;43mself\u001b[39;49m\u001b[38;5;241;43m.\u001b[39;49m\u001b[43m_generate_with_cache\u001b[49m\u001b[43m(\u001b[49m\n\u001b[1;32m    634\u001b[0m \u001b[43m                \u001b[49m\u001b[43mm\u001b[49m\u001b[43m,\u001b[49m\n\u001b[1;32m    635\u001b[0m \u001b[43m                \u001b[49m\u001b[43mstop\u001b[49m\u001b[38;5;241;43m=\u001b[39;49m\u001b[43mstop\u001b[49m\u001b[43m,\u001b[49m\n\u001b[1;32m    636\u001b[0m \u001b[43m                \u001b[49m\u001b[43mrun_manager\u001b[49m\u001b[38;5;241;43m=\u001b[39;49m\u001b[43mrun_managers\u001b[49m\u001b[43m[\u001b[49m\u001b[43mi\u001b[49m\u001b[43m]\u001b[49m\u001b[43m \u001b[49m\u001b[38;5;28;43;01mif\u001b[39;49;00m\u001b[43m \u001b[49m\u001b[43mrun_managers\u001b[49m\u001b[43m \u001b[49m\u001b[38;5;28;43;01melse\u001b[39;49;00m\u001b[43m \u001b[49m\u001b[38;5;28;43;01mNone\u001b[39;49;00m\u001b[43m,\u001b[49m\n\u001b[1;32m    637\u001b[0m \u001b[43m                \u001b[49m\u001b[38;5;241;43m*\u001b[39;49m\u001b[38;5;241;43m*\u001b[39;49m\u001b[43mkwargs\u001b[49m\u001b[43m,\u001b[49m\n\u001b[1;32m    638\u001b[0m \u001b[43m            \u001b[49m\u001b[43m)\u001b[49m\n\u001b[1;32m    639\u001b[0m         )\n\u001b[1;32m    640\u001b[0m     \u001b[38;5;28;01mexcept\u001b[39;00m \u001b[38;5;167;01mBaseException\u001b[39;00m \u001b[38;5;28;01mas\u001b[39;00m e:\n\u001b[1;32m    641\u001b[0m         \u001b[38;5;28;01mif\u001b[39;00m run_managers:\n",
      "File \u001b[0;32m~/ai-issue-review/venv/lib/python3.12/site-packages/langchain_core/language_models/chat_models.py:851\u001b[0m, in \u001b[0;36mBaseChatModel._generate_with_cache\u001b[0;34m(self, messages, stop, run_manager, **kwargs)\u001b[0m\n\u001b[1;32m    849\u001b[0m \u001b[38;5;28;01melse\u001b[39;00m:\n\u001b[1;32m    850\u001b[0m     \u001b[38;5;28;01mif\u001b[39;00m inspect\u001b[38;5;241m.\u001b[39msignature(\u001b[38;5;28mself\u001b[39m\u001b[38;5;241m.\u001b[39m_generate)\u001b[38;5;241m.\u001b[39mparameters\u001b[38;5;241m.\u001b[39mget(\u001b[38;5;124m\"\u001b[39m\u001b[38;5;124mrun_manager\u001b[39m\u001b[38;5;124m\"\u001b[39m):\n\u001b[0;32m--> 851\u001b[0m         result \u001b[38;5;241m=\u001b[39m \u001b[38;5;28;43mself\u001b[39;49m\u001b[38;5;241;43m.\u001b[39;49m\u001b[43m_generate\u001b[49m\u001b[43m(\u001b[49m\n\u001b[1;32m    852\u001b[0m \u001b[43m            \u001b[49m\u001b[43mmessages\u001b[49m\u001b[43m,\u001b[49m\u001b[43m \u001b[49m\u001b[43mstop\u001b[49m\u001b[38;5;241;43m=\u001b[39;49m\u001b[43mstop\u001b[49m\u001b[43m,\u001b[49m\u001b[43m \u001b[49m\u001b[43mrun_manager\u001b[49m\u001b[38;5;241;43m=\u001b[39;49m\u001b[43mrun_manager\u001b[49m\u001b[43m,\u001b[49m\u001b[43m \u001b[49m\u001b[38;5;241;43m*\u001b[39;49m\u001b[38;5;241;43m*\u001b[39;49m\u001b[43mkwargs\u001b[49m\n\u001b[1;32m    853\u001b[0m \u001b[43m        \u001b[49m\u001b[43m)\u001b[49m\n\u001b[1;32m    854\u001b[0m     \u001b[38;5;28;01melse\u001b[39;00m:\n\u001b[1;32m    855\u001b[0m         result \u001b[38;5;241m=\u001b[39m \u001b[38;5;28mself\u001b[39m\u001b[38;5;241m.\u001b[39m_generate(messages, stop\u001b[38;5;241m=\u001b[39mstop, \u001b[38;5;241m*\u001b[39m\u001b[38;5;241m*\u001b[39mkwargs)\n",
      "File \u001b[0;32m~/ai-issue-review/venv/lib/python3.12/site-packages/langchain_aws/chat_models/bedrock_converse.py:501\u001b[0m, in \u001b[0;36mChatBedrockConverse._generate\u001b[0;34m(self, messages, stop, run_manager, **kwargs)\u001b[0m\n\u001b[1;32m    497\u001b[0m bedrock_messages, system \u001b[38;5;241m=\u001b[39m _messages_to_bedrock(messages)\n\u001b[1;32m    498\u001b[0m params \u001b[38;5;241m=\u001b[39m \u001b[38;5;28mself\u001b[39m\u001b[38;5;241m.\u001b[39m_converse_params(\n\u001b[1;32m    499\u001b[0m     stop\u001b[38;5;241m=\u001b[39mstop, \u001b[38;5;241m*\u001b[39m\u001b[38;5;241m*\u001b[39m_snake_to_camel_keys(kwargs, excluded_keys\u001b[38;5;241m=\u001b[39m{\u001b[38;5;124m\"\u001b[39m\u001b[38;5;124minputSchema\u001b[39m\u001b[38;5;124m\"\u001b[39m})\n\u001b[1;32m    500\u001b[0m )\n\u001b[0;32m--> 501\u001b[0m response \u001b[38;5;241m=\u001b[39m \u001b[38;5;28;43mself\u001b[39;49m\u001b[38;5;241;43m.\u001b[39;49m\u001b[43mclient\u001b[49m\u001b[38;5;241;43m.\u001b[39;49m\u001b[43mconverse\u001b[49m\u001b[43m(\u001b[49m\n\u001b[1;32m    502\u001b[0m \u001b[43m    \u001b[49m\u001b[43mmessages\u001b[49m\u001b[38;5;241;43m=\u001b[39;49m\u001b[43mbedrock_messages\u001b[49m\u001b[43m,\u001b[49m\u001b[43m \u001b[49m\u001b[43msystem\u001b[49m\u001b[38;5;241;43m=\u001b[39;49m\u001b[43msystem\u001b[49m\u001b[43m,\u001b[49m\u001b[43m \u001b[49m\u001b[38;5;241;43m*\u001b[39;49m\u001b[38;5;241;43m*\u001b[39;49m\u001b[43mparams\u001b[49m\n\u001b[1;32m    503\u001b[0m \u001b[43m\u001b[49m\u001b[43m)\u001b[49m\n\u001b[1;32m    504\u001b[0m response_message \u001b[38;5;241m=\u001b[39m _parse_response(response)\n\u001b[1;32m    505\u001b[0m \u001b[38;5;28;01mreturn\u001b[39;00m ChatResult(generations\u001b[38;5;241m=\u001b[39m[ChatGeneration(message\u001b[38;5;241m=\u001b[39mresponse_message)])\n",
      "File \u001b[0;32m~/ai-issue-review/venv/lib/python3.12/site-packages/botocore/client.py:569\u001b[0m, in \u001b[0;36mClientCreator._create_api_method.<locals>._api_call\u001b[0;34m(self, *args, **kwargs)\u001b[0m\n\u001b[1;32m    565\u001b[0m     \u001b[38;5;28;01mraise\u001b[39;00m \u001b[38;5;167;01mTypeError\u001b[39;00m(\n\u001b[1;32m    566\u001b[0m         \u001b[38;5;124mf\u001b[39m\u001b[38;5;124m\"\u001b[39m\u001b[38;5;132;01m{\u001b[39;00mpy_operation_name\u001b[38;5;132;01m}\u001b[39;00m\u001b[38;5;124m() only accepts keyword arguments.\u001b[39m\u001b[38;5;124m\"\u001b[39m\n\u001b[1;32m    567\u001b[0m     )\n\u001b[1;32m    568\u001b[0m \u001b[38;5;66;03m# The \"self\" in this scope is referring to the BaseClient.\u001b[39;00m\n\u001b[0;32m--> 569\u001b[0m \u001b[38;5;28;01mreturn\u001b[39;00m \u001b[38;5;28;43mself\u001b[39;49m\u001b[38;5;241;43m.\u001b[39;49m\u001b[43m_make_api_call\u001b[49m\u001b[43m(\u001b[49m\u001b[43moperation_name\u001b[49m\u001b[43m,\u001b[49m\u001b[43m \u001b[49m\u001b[43mkwargs\u001b[49m\u001b[43m)\u001b[49m\n",
      "File \u001b[0;32m~/ai-issue-review/venv/lib/python3.12/site-packages/botocore/client.py:1005\u001b[0m, in \u001b[0;36mBaseClient._make_api_call\u001b[0;34m(self, operation_name, api_params)\u001b[0m\n\u001b[1;32m   1001\u001b[0m     maybe_compress_request(\n\u001b[1;32m   1002\u001b[0m         \u001b[38;5;28mself\u001b[39m\u001b[38;5;241m.\u001b[39mmeta\u001b[38;5;241m.\u001b[39mconfig, request_dict, operation_model\n\u001b[1;32m   1003\u001b[0m     )\n\u001b[1;32m   1004\u001b[0m     apply_request_checksum(request_dict)\n\u001b[0;32m-> 1005\u001b[0m     http, parsed_response \u001b[38;5;241m=\u001b[39m \u001b[38;5;28;43mself\u001b[39;49m\u001b[38;5;241;43m.\u001b[39;49m\u001b[43m_make_request\u001b[49m\u001b[43m(\u001b[49m\n\u001b[1;32m   1006\u001b[0m \u001b[43m        \u001b[49m\u001b[43moperation_model\u001b[49m\u001b[43m,\u001b[49m\u001b[43m \u001b[49m\u001b[43mrequest_dict\u001b[49m\u001b[43m,\u001b[49m\u001b[43m \u001b[49m\u001b[43mrequest_context\u001b[49m\n\u001b[1;32m   1007\u001b[0m \u001b[43m    \u001b[49m\u001b[43m)\u001b[49m\n\u001b[1;32m   1009\u001b[0m \u001b[38;5;28mself\u001b[39m\u001b[38;5;241m.\u001b[39mmeta\u001b[38;5;241m.\u001b[39mevents\u001b[38;5;241m.\u001b[39memit(\n\u001b[1;32m   1010\u001b[0m     \u001b[38;5;124mf\u001b[39m\u001b[38;5;124m'\u001b[39m\u001b[38;5;124mafter-call.\u001b[39m\u001b[38;5;132;01m{\u001b[39;00mservice_id\u001b[38;5;132;01m}\u001b[39;00m\u001b[38;5;124m.\u001b[39m\u001b[38;5;132;01m{\u001b[39;00moperation_name\u001b[38;5;132;01m}\u001b[39;00m\u001b[38;5;124m'\u001b[39m,\n\u001b[1;32m   1011\u001b[0m     http_response\u001b[38;5;241m=\u001b[39mhttp,\n\u001b[0;32m   (...)\u001b[0m\n\u001b[1;32m   1014\u001b[0m     context\u001b[38;5;241m=\u001b[39mrequest_context,\n\u001b[1;32m   1015\u001b[0m )\n\u001b[1;32m   1017\u001b[0m \u001b[38;5;28;01mif\u001b[39;00m http\u001b[38;5;241m.\u001b[39mstatus_code \u001b[38;5;241m>\u001b[39m\u001b[38;5;241m=\u001b[39m \u001b[38;5;241m300\u001b[39m:\n",
      "File \u001b[0;32m~/ai-issue-review/venv/lib/python3.12/site-packages/botocore/client.py:1029\u001b[0m, in \u001b[0;36mBaseClient._make_request\u001b[0;34m(self, operation_model, request_dict, request_context)\u001b[0m\n\u001b[1;32m   1027\u001b[0m \u001b[38;5;28;01mdef\u001b[39;00m\u001b[38;5;250m \u001b[39m\u001b[38;5;21m_make_request\u001b[39m(\u001b[38;5;28mself\u001b[39m, operation_model, request_dict, request_context):\n\u001b[1;32m   1028\u001b[0m     \u001b[38;5;28;01mtry\u001b[39;00m:\n\u001b[0;32m-> 1029\u001b[0m         \u001b[38;5;28;01mreturn\u001b[39;00m \u001b[38;5;28;43mself\u001b[39;49m\u001b[38;5;241;43m.\u001b[39;49m\u001b[43m_endpoint\u001b[49m\u001b[38;5;241;43m.\u001b[39;49m\u001b[43mmake_request\u001b[49m\u001b[43m(\u001b[49m\u001b[43moperation_model\u001b[49m\u001b[43m,\u001b[49m\u001b[43m \u001b[49m\u001b[43mrequest_dict\u001b[49m\u001b[43m)\u001b[49m\n\u001b[1;32m   1030\u001b[0m     \u001b[38;5;28;01mexcept\u001b[39;00m \u001b[38;5;167;01mException\u001b[39;00m \u001b[38;5;28;01mas\u001b[39;00m e:\n\u001b[1;32m   1031\u001b[0m         \u001b[38;5;28mself\u001b[39m\u001b[38;5;241m.\u001b[39mmeta\u001b[38;5;241m.\u001b[39mevents\u001b[38;5;241m.\u001b[39memit(\n\u001b[1;32m   1032\u001b[0m             \u001b[38;5;124mf\u001b[39m\u001b[38;5;124m'\u001b[39m\u001b[38;5;124mafter-call-error.\u001b[39m\u001b[38;5;132;01m{\u001b[39;00m\u001b[38;5;28mself\u001b[39m\u001b[38;5;241m.\u001b[39m_service_model\u001b[38;5;241m.\u001b[39mservice_id\u001b[38;5;241m.\u001b[39mhyphenize()\u001b[38;5;132;01m}\u001b[39;00m\u001b[38;5;124m.\u001b[39m\u001b[38;5;132;01m{\u001b[39;00moperation_model\u001b[38;5;241m.\u001b[39mname\u001b[38;5;132;01m}\u001b[39;00m\u001b[38;5;124m'\u001b[39m,\n\u001b[1;32m   1033\u001b[0m             exception\u001b[38;5;241m=\u001b[39me,\n\u001b[1;32m   1034\u001b[0m             context\u001b[38;5;241m=\u001b[39mrequest_context,\n\u001b[1;32m   1035\u001b[0m         )\n",
      "File \u001b[0;32m~/ai-issue-review/venv/lib/python3.12/site-packages/botocore/endpoint.py:119\u001b[0m, in \u001b[0;36mEndpoint.make_request\u001b[0;34m(self, operation_model, request_dict)\u001b[0m\n\u001b[1;32m    113\u001b[0m \u001b[38;5;28;01mdef\u001b[39;00m\u001b[38;5;250m \u001b[39m\u001b[38;5;21mmake_request\u001b[39m(\u001b[38;5;28mself\u001b[39m, operation_model, request_dict):\n\u001b[1;32m    114\u001b[0m     logger\u001b[38;5;241m.\u001b[39mdebug(\n\u001b[1;32m    115\u001b[0m         \u001b[38;5;124m\"\u001b[39m\u001b[38;5;124mMaking request for \u001b[39m\u001b[38;5;132;01m%s\u001b[39;00m\u001b[38;5;124m with params: \u001b[39m\u001b[38;5;132;01m%s\u001b[39;00m\u001b[38;5;124m\"\u001b[39m,\n\u001b[1;32m    116\u001b[0m         operation_model,\n\u001b[1;32m    117\u001b[0m         request_dict,\n\u001b[1;32m    118\u001b[0m     )\n\u001b[0;32m--> 119\u001b[0m     \u001b[38;5;28;01mreturn\u001b[39;00m \u001b[38;5;28;43mself\u001b[39;49m\u001b[38;5;241;43m.\u001b[39;49m\u001b[43m_send_request\u001b[49m\u001b[43m(\u001b[49m\u001b[43mrequest_dict\u001b[49m\u001b[43m,\u001b[49m\u001b[43m \u001b[49m\u001b[43moperation_model\u001b[49m\u001b[43m)\u001b[49m\n",
      "File \u001b[0;32m~/ai-issue-review/venv/lib/python3.12/site-packages/botocore/endpoint.py:200\u001b[0m, in \u001b[0;36mEndpoint._send_request\u001b[0;34m(self, request_dict, operation_model)\u001b[0m\n\u001b[1;32m    196\u001b[0m request \u001b[38;5;241m=\u001b[39m \u001b[38;5;28mself\u001b[39m\u001b[38;5;241m.\u001b[39mcreate_request(request_dict, operation_model)\n\u001b[1;32m    197\u001b[0m success_response, exception \u001b[38;5;241m=\u001b[39m \u001b[38;5;28mself\u001b[39m\u001b[38;5;241m.\u001b[39m_get_response(\n\u001b[1;32m    198\u001b[0m     request, operation_model, context\n\u001b[1;32m    199\u001b[0m )\n\u001b[0;32m--> 200\u001b[0m \u001b[38;5;28;01mwhile\u001b[39;00m \u001b[38;5;28;43mself\u001b[39;49m\u001b[38;5;241;43m.\u001b[39;49m\u001b[43m_needs_retry\u001b[49m\u001b[43m(\u001b[49m\n\u001b[1;32m    201\u001b[0m \u001b[43m    \u001b[49m\u001b[43mattempts\u001b[49m\u001b[43m,\u001b[49m\n\u001b[1;32m    202\u001b[0m \u001b[43m    \u001b[49m\u001b[43moperation_model\u001b[49m\u001b[43m,\u001b[49m\n\u001b[1;32m    203\u001b[0m \u001b[43m    \u001b[49m\u001b[43mrequest_dict\u001b[49m\u001b[43m,\u001b[49m\n\u001b[1;32m    204\u001b[0m \u001b[43m    \u001b[49m\u001b[43msuccess_response\u001b[49m\u001b[43m,\u001b[49m\n\u001b[1;32m    205\u001b[0m \u001b[43m    \u001b[49m\u001b[43mexception\u001b[49m\u001b[43m,\u001b[49m\n\u001b[1;32m    206\u001b[0m \u001b[43m\u001b[49m\u001b[43m)\u001b[49m:\n\u001b[1;32m    207\u001b[0m     attempts \u001b[38;5;241m+\u001b[39m\u001b[38;5;241m=\u001b[39m \u001b[38;5;241m1\u001b[39m\n\u001b[1;32m    208\u001b[0m     \u001b[38;5;28mself\u001b[39m\u001b[38;5;241m.\u001b[39m_update_retries_context(context, attempts, success_response)\n",
      "File \u001b[0;32m~/ai-issue-review/venv/lib/python3.12/site-packages/botocore/endpoint.py:379\u001b[0m, in \u001b[0;36mEndpoint._needs_retry\u001b[0;34m(self, attempts, operation_model, request_dict, response, caught_exception)\u001b[0m\n\u001b[1;32m    372\u001b[0m \u001b[38;5;28;01melse\u001b[39;00m:\n\u001b[1;32m    373\u001b[0m     \u001b[38;5;66;03m# Request needs to be retried, and we need to sleep\u001b[39;00m\n\u001b[1;32m    374\u001b[0m     \u001b[38;5;66;03m# for the specified number of times.\u001b[39;00m\n\u001b[1;32m    375\u001b[0m     logger\u001b[38;5;241m.\u001b[39mdebug(\n\u001b[1;32m    376\u001b[0m         \u001b[38;5;124m\"\u001b[39m\u001b[38;5;124mResponse received to retry, sleeping for \u001b[39m\u001b[38;5;132;01m%s\u001b[39;00m\u001b[38;5;124m seconds\u001b[39m\u001b[38;5;124m\"\u001b[39m,\n\u001b[1;32m    377\u001b[0m         handler_response,\n\u001b[1;32m    378\u001b[0m     )\n\u001b[0;32m--> 379\u001b[0m     \u001b[43mtime\u001b[49m\u001b[38;5;241;43m.\u001b[39;49m\u001b[43msleep\u001b[49m\u001b[43m(\u001b[49m\u001b[43mhandler_response\u001b[49m\u001b[43m)\u001b[49m\n\u001b[1;32m    380\u001b[0m     \u001b[38;5;28;01mreturn\u001b[39;00m \u001b[38;5;28;01mTrue\u001b[39;00m\n",
      "\u001b[0;31mKeyboardInterrupt\u001b[0m: "
     ]
    }
   ],
   "source": [
    "from langchain_core.messages import HumanMessage\n",
    "\n",
    "# code_editor.reset()\n",
    "\n",
    "messages = [HumanMessage(content=pt.START_AGENT.format(\n",
    "    repo=instance_details[\"repo\"],\n",
    "    problem_statement=instance_details[\"problem_statement\"],\n",
    "))]\n",
    "# Start conversation\n",
    "model_patch = None\n",
    "for chunk in graph.stream({\"messages\": messages}, stream_mode=\"updates\"):\n",
    "    if \"tool_node\" in chunk:\n",
    "        chunk[\"tool_node\"][\"messages\"][-1].pretty_print()\n",
    "    elif \"assistant\" in chunk:\n",
    "        chunk[\"assistant\"][\"messages\"][-1].pretty_print()\n",
    "    elif \"get_patch\" in chunk:\n",
    "        model_patch = chunk[\"get_patch\"][\"patch\"]\n",
    "\n",
    "if model_patch:\n",
    "    print(\"GOT MODEL PATCH\")\n",
    "    print(model_patch)"
   ]
  },
  {
   "cell_type": "code",
   "execution_count": 20,
   "id": "70ab78e3411c9ead",
   "metadata": {
    "ExecuteTime": {
     "end_time": "2025-01-19T04:12:29.774240Z",
     "start_time": "2025-01-19T04:12:29.771891Z"
    },
    "collapsed": false
   },
   "outputs": [
    {
     "data": {
      "text/plain": [
       "32"
      ]
     },
     "execution_count": 20,
     "metadata": {},
     "output_type": "execute_result"
    }
   ],
   "source": [
    "logs = \"\"\"Traceback (most recent call last):\n",
    "  File \"reproduce_issue.py\", line 25, in <module>\n",
    "    django.setup()\n",
    "  File \"/testbed/django/__init__.py\", line 24, in setup\n",
    "    apps.populate(settings.INSTALLED_APPS)\n",
    "  File \"/testbed/django/apps/registry.py\", line 122, in populate\n",
    "    app_config.ready()\n",
    "  File \"/testbed/django/contrib/admin/apps.py\", line 26, in ready\n",
    "    self.module.autodiscover()\n",
    "  File \"/testbed/django/contrib/admin/__init__.py\", line 24, in autodiscover\n",
    "    autodiscover_modules('admin', register_to=site)\n",
    "  File \"/testbed/django/utils/module_loading.py\", line 47, in autodiscover_modules\n",
    "    import_module('%s.%s' % (app_config.name, module_to_search))\n",
    "  File \"/opt/miniconda3/envs/testbed/lib/python3.6/importlib/__init__.py\", line 126, in import_module\n",
    "    return _bootstrap._gcd_import(name[level:], package, level)\n",
    "  File \"<frozen importlib._bootstrap>\", line 994, in _gcd_import\n",
    "  File \"<frozen importlib._bootstrap>\", line 971, in _find_and_load\n",
    "  File \"<frozen importlib._bootstrap>\", line 955, in _find_and_load_unlocked\n",
    "  File \"<frozen importlib._bootstrap>\", line 665, in _load_unlocked\n",
    "  File \"<frozen importlib._bootstrap_external>\", line 678, in exec_module\n",
    "  File \"<frozen importlib._bootstrap>\", line 219, in _call_with_frames_removed\n",
    "  File \"/testbed/django/contrib/auth/admin.py\", line 6, in <module>\n",
    "    from django.contrib.auth.forms import (\n",
    "  File \"/testbed/django/contrib/auth/forms.py\", line 11, in <module>\n",
    "    from django.contrib.auth.tokens import default_token_generator\n",
    "  File \"/testbed/django/contrib/auth/tokens.py\", line 107, in <module>\n",
    "    default_token_generator = PasswordResetTokenGenerator()\n",
    "  File \"/testbed/django/contrib/auth/tokens.py\", line 18, in __init__\n",
    "    self.secret = self.secret or settings.SECRET_KEY\n",
    "  File \"/testbed/django/conf/__init__.py\", line 91, in __getattr__\n",
    "    raise ImproperlyConfigured(\"The SECRET_KEY setting must not be empty.\")\n",
    "django.core.exceptions.ImproperlyConfigured: The SECRET_KEY setting must not be empty.\"\"\"\n",
    "len(logs.splitlines())"
   ]
  },
  {
   "cell_type": "code",
   "execution_count": 18,
   "id": "b68bdb35",
   "metadata": {},
   "outputs": [
    {
     "name": "stdout",
     "output_type": "stream",
     "text": [
      "\"Running Sphinx v3.1.0+/752d3285d\\nmaking output directory... done\\n[autosummary] generating autosummary for: CONTRIBUTING.rst, README.rst, _templates/autosummary/module.rst, doc/authors.rst, doc/changes.rst, doc/code_of_conduct.rst, doc/contents.rst, doc/develop.rst, doc/development/tutorials/examples/README.rst, doc/development/tutorials/helloworld.rst, ..., tests/roots/test-toctree/bar.rst, tests/roots/test-toctree/baz.rst, tests/roots/test-toctree/foo.rst, tests/roots/test-toctree/index.rst, tests/roots/test-toctree/quux.rst, tests/roots/test-toctree/qux.rst, tests/roots/test-toctree/tocdepth.rst, tests/roots/test-trim_doctest_flags/index.rst, tests/roots/test-warnings/index.rst, tests/roots/test-warnings/undecodable.rst\\nFailed to import 'autodoc_fodder': no module named autodoc_fodder\\nFailed to import 'spam.mod3': no module named spam.mod3\\nFailed to import 'noodle': no module named noodle\\nFailed to import 'foo': no module named foo\\nFailed to import 'noodle': no module named noodle\\nFailed to import 'coverage_ignored': no module named coverage_ignored\\nFailed to import 'coverage_not_ignored': no module named coverage_not_ignored\\nFailed to import 'autodoc_dummy_module': no module named autodoc_dummy_module\\nFailed to import 'bug2437.autodoc_dummy_foo': no module named bug2437.autodoc_dummy_foo\\nFailed to import 'autodoc_dummy_bar': no module named autodoc_dummy_bar\\nFailed to import 'dir.bar': no module named dir.bar\\nFailed to import 'foo': no module named foo\\n[autosummary] generating autosummary for: /testbed/doc/usage/extensions/DIRNAME/sphinx.ext.autosummary.sphinx.environment.BuildEnvironment.rst, /testbed/doc/usage/extensions/DIRNAME/sphinx.ext.autosummary.sphinx.util.relative_uri.rst, /testbed/generated/example.rst, /testbed/tests/roots/test-autosummary/generated/sphinx.application.Sphinx.rst, /testbed/tests/roots/test-autosummary/sphinx.rst\\nbuilding [mo]: targets for 0 po files that are out of date\\nbuilding [html]: targets for 293 source files that are out of date\\nupdating environment: [new config] 297 added, 0 changed, 0 removed\\nreading sources... [  0%] CONTRIBUTING\\nreading sources... [  0%] README\\nreading sources... [  1%] _templates/autosummary/module\\nreading sources... [  1%] doc/authors\\nreading sources... [  1%] doc/changes\\nreading sources... [  2%] doc/code_of_conduct\\nreading sources... [  2%] doc/contents\\nreading sources... [  2%] doc/develop\\nreading sources... [  3%] doc/development/tutorials/examples/README\\nreading sources... [  3%] doc/development/tutorials/helloworld\\nreading sources... [  3%] doc/development/tutorials/index\\nreading sources... [  4%] doc/development/tutorials/recipe\\nreading sources... [  4%] doc/development/tutorials/todo\\nreading sources... [  4%] doc/devguide\\nreading sources... [  5%] doc/examples\\nreading sources... [  5%] doc/extdev/appapi\\nreading sources... [  5%] doc/extdev/builderapi\\nreading sources... [  6%] doc/extdev/collectorapi\\nreading sources... [  6%] doc/extdev/deprecated\\nreading sources... [  6%] doc/extdev/domainapi\\nreading sources... [  7%] doc/extdev/envapi\\nreading sources... [  7%] doc/extdev/i18n\\nreading sources... [  7%] doc/extdev/index\\nreading sources... [  8%] doc/extdev/logging\\nreading sources... [  8%] doc/extdev/markupapi\\nreading sources... [  8%] doc/extdev/nodes\\nreading sources... [  9%] doc/extdev/parserapi\\nreading sources... [  9%] doc/extdev/projectapi\\nreading sources... [  9%] doc/extdev/utils\\nreading sources... [ 10%] doc/faq\\nreading sources... [ 10%] doc/glossary\\nreading sources... [ 10%] doc/intro\\nreading sources... [ 11%] doc/latex\\nreading sources... [ 11%] doc/man/index\\nreading sources... [ 11%] doc/man/sphinx-apidoc\\nreading sources... [ 12%] doc/man/sphinx-autogen\\nreading sources... [ 12%] doc/man/sphinx-build\\nreading sources... [ 12%] doc/man/sphinx-quickstart\\nreading sources... [ 13%] doc/templating\\nreading sources... [ 13%] doc/theming\\nreading sources... [ 13%] doc/usage/advanced/intl\\nreading sources... [ 14%] doc/usage/advanced/setuptools\\nreading sources... [ 14%] doc/usage/advanced/websupport/api\\nreading sources... [ 14%] doc/usage/advanced/websupport/index\\nreading sources... [ 15%] doc/usage/advanced/websupport/quickstart\\nreading sources... [ 15%] doc/usage/advanced/websupport/searchadapters\\nreading sources... [ 15%] doc/usage/advanced/websupport/storagebackends\\nreading sources... [ 16%] doc/usage/builders/index\\nreading sources... [ 16%] doc/usage/configuration\\nreading sources... [ 16%] doc/usage/extensions/DIRNAME/sphinx.ext.autosummary.sphinx.environment.BuildEnvironment\\nreading sources... [ 17%] doc/usage/extensions/DIRNAME/sphinx.ext.autosummary.sphinx.util.relative_uri\\nreading sources... [ 17%] doc/usage/extensions/autodoc\\nreading sources... [ 17%] doc/usage/extensions/autosectionlabel\\nreading sources... [ 18%] doc/usage/extensions/autosummary\\nreading sources... [ 18%] doc/usage/extensions/coverage\\nreading sources... [ 18%] doc/usage/extensions/doctest\\nreading sources... [ 19%] doc/usage/extensions/duration\\nreading sources... [ 19%] doc/usage/extensions/example_google\\nreading sources... [ 19%] doc/usage/extensions/example_numpy\\nreading sources... [ 20%] doc/usage/extensions/extlinks\\nreading sources... [ 20%] doc/usage/extensions/githubpages\\nreading sources... [ 20%] doc/usage/extensions/graphviz\\nreading sources... [ 21%] doc/usage/extensions/ifconfig\\nreading sources... [ 21%] doc/usage/extensions/imgconverter\\nreading sources... [ 21%] doc/usage/extensions/index\\nreading sources... [ 22%] doc/usage/extensions/inheritance\\nreading sources... [ 22%] doc/usage/extensions/intersphinx\\nreading sources... [ 22%] doc/usage/extensions/linkcode\\nreading sources... [ 23%] doc/usage/extensions/math\\nreading sources... [ 23%] doc/usage/extensions/napoleon\\nreading sources... [ 23%] doc/usage/extensions/todo\\nreading sources... [ 24%] doc/usage/extensions/viewcode\\nreading sources... [ 24%] doc/usage/installation\\nreading sources... [ 24%] doc/usage/markdown\\nreading sources... [ 25%] doc/usage/quickstart\\nreading sources... [ 25%] doc/usage/restructuredtext/basics\\nreading sources... [ 25%] doc/usage/restructuredtext/directives\\nreading sources... [ 26%] doc/usage/restructuredtext/domains\\nreading sources... [ 26%] doc/usage/restructuredtext/field-lists\\nreading sources... [...logs trimmed...targets a enumerator (A).\\n/testbed/tests/roots/test-domain-js/roles.rst:20: WARNING: more than one target found for 'any' cross-reference 'any_child': could be :js:func:`NestedParentA.any_child` or :py:meth:`NestedParentA.any_child`\\n/testbed/tests/roots/test-domain-py/module.rst:49: WARNING: more than one target found for cross-reference 'ModTopLevel': module_a.submodule.ModTopLevel, module_b.submodule.ModTopLevel\\n/testbed/tests/roots/test-ext-autosectionlabel-prefix-document/index.rst:31: WARNING: undefined label: index:introduce of sphinx (if the link has no caption the label must precede a section header)\\n/testbed/tests/roots/test-ext-autosectionlabel-prefix-document/index.rst:32: WARNING: undefined label: index:installation (if the link has no caption the label must precede a section header)\\n/testbed/tests/roots/test-ext-autosectionlabel-prefix-document/index.rst:33: WARNING: undefined label: index:for windows users (if the link has no caption the label must precede a section header)\\n/testbed/tests/roots/test-ext-autosectionlabel-prefix-document/index.rst:34: WARNING: undefined label: index:for unix users (if the link has no caption the label must precede a section header)\\n/testbed/tests/roots/test-ext-autosectionlabel-prefix-document/index.rst:35: WARNING: undefined label: index:linux (if the link has no caption the label must precede a section header)\\n/testbed/tests/roots/test-ext-autosectionlabel-prefix-document/index.rst:36: WARNING: undefined label: index:freebsd (if the link has no caption the label must precede a section header)\\n/testbed/tests/roots/test-ext-autosectionlabel-prefix-document/index.rst:37: WARNING: undefined label: index:this one's got an apostrophe (if the link has no caption the label must precede a section header)\\n/testbed/tests/roots/test-ext-autosectionlabel/index.rst:30: WARNING: undefined label: test-ext-autosectionlabel (if the link has no caption the label must precede a section header)\\n/testbed/tests/roots/test-ext-autosectionlabel/index.rst:31: WARNING: undefined label: introduce of sphinx (if the link has no caption the label must precede a section header)\\n/testbed/tests/roots/test-ext-autosectionlabel/index.rst:32: WARNING: undefined label: installation (if the link has no caption the label must precede a section header)\\n/testbed/tests/roots/test-ext-autosectionlabel/index.rst:33: WARNING: undefined label: for windows users (if the link has no caption the label must precede a section header)\\n/testbed/tests/roots/test-ext-autosectionlabel/index.rst:34: WARNING: undefined label: for unix users (if the link has no caption the label must precede a section header)\\n/testbed/tests/roots/test-ext-autosectionlabel/index.rst:35: WARNING: undefined label: linux (if the link has no caption the label must precede a section header)\\n/testbed/tests/roots/test-ext-autosectionlabel/index.rst:36: WARNING: undefined label: freebsd (if the link has no caption the label must precede a section header)\\n/testbed/tests/roots/test-ext-autosectionlabel/index.rst:37: WARNING: undefined label: this one's got an apostrophe (if the link has no caption the label must precede a section header)\\n/testbed/tests/roots/test-ext-viewcode/objects.rst:117: WARNING: Unparseable C cross-reference: 'SphinxType *'\\nInvalid C declaration: Expected end of definition. [error at 11]\\n  SphinxType *\\n  -----------^\\n/testbed/tests/roots/test-need-escaped/index.rst:10: WARNING: toctree contains reference to document 'tests/roots/test-need-escaped/qux' that doesn't have a title: no link will be generated\\n/testbed/tests/roots/test-numbered-circular/sub.rst: WARNING: circular toctree references detected, ignoring: tests/roots/test-numbered-circular/sub <- tests/roots/test-numbered-circular/index <- tests/roots/test-numbered-circular/sub\\n/testbed/tests/roots/test-numbered-circular/index.rst: WARNING: circular toctree references detected, ignoring: tests/roots/test-numbered-circular/index <- tests/roots/test-numbered-circular/sub <- tests/roots/test-numbered-circular/index\\n/testbed/tests/roots/test-numfig/index.rst:47: WARNING: numfig is disabled. :numref: is ignored.\\n/testbed/tests/roots/test-numfig/index.rst:48: WARNING: numfig is disabled. :numref: is ignored.\\n/testbed/tests/roots/test-numfig/index.rst:49: WARNING: numfig is disabled. :numref: is ignored.\\n/testbed/tests/roots/test-numfig/index.rst:50: WARNING: numfig is disabled. :numref: is ignored.\\n/testbed/tests/roots/test-numfig/index.rst:51: WARNING: numfig is disabled. :numref: is ignored.\\n/testbed/tests/roots/test-numfig/index.rst:52: WARNING: numfig is disabled. :numref: is ignored.\\n/testbed/tests/roots/test-numfig/index.rst:55: WARNING: no number is assigned for section: index\\n/testbed/tests/roots/test-numfig/index.rst:56: WARNING: numfig is disabled. :numref: is ignored.\\n/testbed/tests/roots/test-numfig/index.rst:57: WARNING: numfig is disabled. :numref: is ignored.\\n/testbed/tests/roots/test-numfig/index.rst:58: WARNING: numfig is disabled. :numref: is ignored.\\n/testbed/tests/roots/test-warnings/index.rst:41: WARNING: unknown option: &option\\n/testbed/tests/roots/test-warnings/index.rst:45: WARNING: citation not found: missing\\n/testbed/tests/roots/test-warnings/index.rst:13: WARNING: a suitable image for html builder not found: tests/roots/test-warnings/foo.*\\n/testbed/tests/roots/test-warnings/index.rst:33: WARNING: Could not lex literal_block as \\\"c\\\". Highlighting skipped.\\nTraceback (most recent call last):\\n  File \\\"/testbed/reproduce_issue.py\\\", line 25, in <module>\\n    with open('_build/generated/example.rst', 'r') as f:\\nFileNotFoundError: [Errno 2] No such file or directory: '_build/generated/example.rst'\\n\\nERROR conda.cli.main_run:execute(124): `conda run python3 reproduce_issue.py` failed. (See above for error)\\n\\n\"\n"
     ]
    }
   ],
   "source": [
    "log_lines = logs.splitlines()\n",
    "if len(log_lines) > 50:\n",
    "    trimmed_logs = \"\\n\".join(log_lines[:25]) + \"\\n[...logs trimmed...'\\n\" + \"\\n\".join(log_lines[-25:])\n",
    "print(trimmed_logs)"
   ]
  },
  {
   "cell_type": "code",
   "execution_count": 9,
   "id": "da876dffa9fac1aa",
   "metadata": {
    "ExecuteTime": {
     "end_time": "2025-01-18T22:44:33.178901Z",
     "start_time": "2025-01-18T22:44:33.092093Z"
    },
    "collapsed": false
   },
   "outputs": [
    {
     "name": "stdout",
     "output_type": "stream",
     "text": [
      "[b'E' b'E' b'E' b'E' b'E']\n"
     ]
    }
   ],
   "source": []
  },
  {
   "cell_type": "code",
   "execution_count": 11,
   "id": "f087d182",
   "metadata": {},
   "outputs": [
    {
     "name": "stdout",
     "output_type": "stream",
     "text": [
      "Before replace - watcher1 sees: b'E'\n",
      "After replace - watcher1 sees: b'E'\n",
      "After replace - arr1 is: b'D'\n",
      "\n",
      "-------------------\n",
      "\n",
      "Before replace - watcher2 sees: b'E'\n",
      "After replace - watcher2 sees: b'D'\n",
      "After replace - arr2 is: b'D'\n"
     ]
    }
   ],
   "source": [
    "import numpy as np\n",
    "\n",
    "def array_watcher(arr):\n",
    "    # This function holds onto the reference of the array it's given\n",
    "    def check_value():\n",
    "        # Returns the first value in the array it's watching\n",
    "        return arr[0]\n",
    "    return check_value\n",
    "\n",
    "# Test Case 1: Without [:]\n",
    "arr1 = np.chararray(5)\n",
    "arr1[:] = 'E'\n",
    "watcher1 = array_watcher(arr1)  # watcher1 now holds reference to original array\n",
    "\n",
    "print(\"Before replace - watcher1 sees:\", watcher1())  # Should see 'E'\n",
    "arr1 = arr1.replace(b'E', b'D')  # Creates new array\n",
    "print(\"After replace - watcher1 sees:\", watcher1())   # Still sees 'E'\n",
    "print(\"After replace - arr1 is:\", arr1[0])           # Shows 'D'\n",
    "\n",
    "print(\"\\n-------------------\\n\")\n",
    "\n",
    "# Test Case 2: With [:]\n",
    "arr2 = np.chararray(5)\n",
    "arr2[:] = 'E'\n",
    "watcher2 = array_watcher(arr2)  # watcher2 now holds reference to array\n",
    "\n",
    "print(\"Before replace - watcher2 sees:\", watcher2())  # Should see 'E'\n",
    "arr2[:] = arr2.replace(b'E', b'D')  # Modifies in place\n",
    "print(\"After replace - watcher2 sees:\", watcher2())   # Sees 'D'\n",
    "print(\"After replace - arr2 is:\", arr2[0])           # Shows 'D'"
   ]
  }
 ],
 "metadata": {
  "kernelspec": {
   "display_name": "venv",
   "language": "python",
   "name": "python3"
  },
  "language_info": {
   "codemirror_mode": {
    "name": "ipython",
    "version": 3
   },
   "file_extension": ".py",
   "mimetype": "text/x-python",
   "name": "python",
   "nbconvert_exporter": "python",
   "pygments_lexer": "ipython3",
   "version": "3.12.3"
  }
 },
 "nbformat": 4,
 "nbformat_minor": 5
}
